{
 "cells": [
  {
   "cell_type": "markdown",
   "id": "Bp7-Rtad1K8E",
   "metadata": {
    "id": "Bp7-Rtad1K8E"
   },
   "source": [
    "Evaluation Metrics:\n",
    "Each question carries 10 marks each after a succesful execution of the code with the output."
   ]
  },
  {
   "cell_type": "code",
   "execution_count": null,
   "id": "dd0cf1b5",
   "metadata": {
    "id": "dd0cf1b5"
   },
   "outputs": [],
   "source": []
  },
  {
   "cell_type": "markdown",
   "id": "07c8c0b2",
   "metadata": {
    "id": "07c8c0b2"
   },
   "source": [
    "\n",
    "### 1. Find the Cartesian Product of the below given sets in the below cell. (In Python Code)\n",
    "\n",
    "A = set(['a','b','c'])\n",
    "\n",
    "S = {1,2,3}\n"
   ]
  },
  {
   "cell_type": "code",
   "execution_count": 6,
   "id": "8b2078fa",
   "metadata": {
    "id": "8b2078fa"
   },
   "outputs": [
    {
     "name": "stdout",
     "output_type": "stream",
     "text": [
      "{('a', 3), ('b', 2), ('a', 2), ('b', 1), ('c', 2), ('c', 1), ('a', 1), ('b', 3), ('c', 3)}\n"
     ]
    }
   ],
   "source": [
    "# a=set(['a','b','c'])\n",
    "# s={1,2,3}\n",
    "# for i,j in zip(a,s) :\n",
    "#     print(i,j)\n",
    "A = set(['a','b','c'])\n",
    "S = {1,2,3}\n",
    "def cp(A1,S1) :\n",
    "    # bag=set()\n",
    "    # for i in A :\n",
    "    #     for j in S :\n",
    "    #         bag.add((i,j))\n",
    "    # return bag\n",
    "    return {(i,j) for i in A1 for j in S1}\n",
    "    # return {f\"{i}:{j}\" for i in A1 for j in S1}\n",
    "bag2=cp(A,S)\n",
    "print(bag2)    \n",
    "            "
   ]
  },
  {
   "cell_type": "markdown",
   "id": "3d43b9ee",
   "metadata": {
    "id": "3d43b9ee"
   },
   "source": [
    "### 2. Find all the possible permutations and number of permutations of A\n",
    "\n",
    "A = {'Red','Green','Blue'}\n"
   ]
  },
  {
   "cell_type": "code",
   "execution_count": 11,
   "id": "52c18588",
   "metadata": {
    "id": "52c18588"
   },
   "outputs": [
    {
     "name": "stdout",
     "output_type": "stream",
     "text": [
      "('Blue', 'Red', 'Green')\n",
      "('Blue', 'Green', 'Red')\n",
      "('Red', 'Blue', 'Green')\n",
      "('Red', 'Green', 'Blue')\n",
      "('Green', 'Blue', 'Red')\n",
      "('Green', 'Red', 'Blue')\n",
      "Number of permutations: 6\n"
     ]
    }
   ],
   "source": [
    "import itertools\n",
    "\n",
    "A = {'Red','Green','Blue'}\n",
    "per_s = list(itertools.permutations(A))\n",
    "for i in per_s:\n",
    "    print(i)\n",
    "print(f\"Number of permutations: {len(per_s)}\")"
   ]
  },
  {
   "cell_type": "code",
   "execution_count": null,
   "id": "51509b5e",
   "metadata": {
    "id": "51509b5e"
   },
   "outputs": [],
   "source": []
  },
  {
   "cell_type": "markdown",
   "id": "637ffa24",
   "metadata": {
    "id": "637ffa24"
   },
   "source": [
    "### 3. Research Question on Hypothesis Testing\n",
    "\n",
    "In previous years, 52% of parents believed that electronics and social media was the cause of their teenager’s lack of sleep. Do more parents today believe that their teenager’s lack of sleep is caused due to electronics and social media?\n",
    "\n",
    "**Population**: Parents with a teenager (age 13-18)  \n",
    "**Parameter of Interest**: p  \n",
    "\n",
    "**Null Hypothesis:** p = 0.52  \n",
    "**Alternative Hypthosis:** p > 0.52 (note that this is a one-sided test)\n",
    "\n",
    "**Data**: 1018 people were surveyed. 56% of those who were surveyed believe that their teenager’s lack of sleep is caused due to electronics and social media."
   ]
  },
  {
   "cell_type": "markdown",
   "id": "4786f83f",
   "metadata": {
    "id": "4786f83f"
   },
   "source": [
    "### Hint: Use  `proportions_ztest()` from `statsmodels`\n",
    "\n",
    "Note the argument `alternative=\"larger\"` indicating a one-sided test. The function returns two values - the z-statistic and the corresponding p-value."
   ]
  },
  {
   "cell_type": "code",
   "execution_count": null,
   "id": "475fe79a",
   "metadata": {
    "id": "475fe79a"
   },
   "outputs": [],
   "source": [
    "pip install statsmodels\n",
    "\n",
    "import statsmodels.api as sm\n",
    "\n",
    "# Given values\n",
    "n = 1018\n",
    "pnull = 0.52\n",
    "phat = 0.56\n",
    "\n",
    "# z-test for proportions\n",
    "count = phat * n \n",
    "result = sm.stats.proportions_ztest(count, n, pnull, alternative='larger')\n",
    "\n",
    "z_stat, p_value = result\n",
    "\n",
    "# Print the results\n",
    "print(f\"Z-statistic: {z_stat}\")\n",
    "print(f\"P-value: {p_value}\")\n"
   ]
  },
  {
   "cell_type": "markdown",
   "id": "e64e5437",
   "metadata": {
    "id": "e64e5437"
   },
   "source": [
    "### What is your Conclusion of the hypothesis test\n"
   ]
  },
  {
   "cell_type": "code",
   "execution_count": null,
   "id": "4da83967",
   "metadata": {
    "id": "4da83967"
   },
   "outputs": [],
   "source": [
    "The statistical test shows that there is a significant increase in the proportion of parents who believe their teenager’s lack of sleep is caused by electronics and social media, compared to the previous year's estimate of 52%."
   ]
  },
  {
   "cell_type": "markdown",
   "id": "4503f17c",
   "metadata": {
    "id": "4503f17c"
   },
   "source": [
    "## 4. Calculate the set difference between the 2 sets (set1 - multipes of 3 upto a range of 31 and set2 - multiples of upto a range of 31)"
   ]
  },
  {
   "cell_type": "code",
   "execution_count": 26,
   "id": "d2760c77",
   "metadata": {
    "id": "d2760c77"
   },
   "outputs": [
    {
     "name": "stdout",
     "output_type": "stream",
     "text": [
      "Set S1: {0, 3, 6, 9, 12, 15, 18, 21, 24, 27, 30}\n"
     ]
    }
   ],
   "source": [
    "S1 = set([x for x in range(31) if x%3==0])\n",
    "print (\"Set S1:\", S1)"
   ]
  },
  {
   "cell_type": "code",
   "execution_count": 28,
   "id": "b10dc469",
   "metadata": {
    "id": "b10dc469"
   },
   "outputs": [
    {
     "name": "stdout",
     "output_type": "stream",
     "text": [
      "Set S2: {0, 5, 10, 15, 20, 25, 30}\n"
     ]
    }
   ],
   "source": [
    "# S2 = set([x for x in range(31) if x%5==0])\n",
    "# print (\"Set S2:\", S2)\n",
    "S2 = set()  \n",
    "for x in range(31):\n",
    "    if x % 5 == 0:\n",
    "        S2.add(x)\n",
    "print(\"Set S2:\", S2)\n"
   ]
  },
  {
   "cell_type": "markdown",
   "id": "796c2e91",
   "metadata": {
    "id": "796c2e91"
   },
   "source": [
    "### 5. Calculate a function to generate random arrays with range of (1,100) and the naive functions to calculate Mean, Varience and Standard deviation for the array generated"
   ]
  },
  {
   "cell_type": "code",
   "execution_count": 45,
   "id": "9c7a2930",
   "metadata": {
    "id": "9c7a2930"
   },
   "outputs": [
    {
     "ename": "SyntaxError",
     "evalue": "invalid syntax. Perhaps you forgot a comma? (2117814862.py, line 36)",
     "output_type": "error",
     "traceback": [
      "\u001b[1;36m  Cell \u001b[1;32mIn[45], line 36\u001b[1;36m\u001b[0m\n\u001b[1;33m    mean(\"mean arr is :\" arr)\u001b[0m\n\u001b[1;37m         ^\u001b[0m\n\u001b[1;31mSyntaxError\u001b[0m\u001b[1;31m:\u001b[0m invalid syntax. Perhaps you forgot a comma?\n"
     ]
    }
   ],
   "source": [
    "def random_array(num_elements,lower=1,upper=100):\n",
    "    from random import randint\n",
    "    lst = []\n",
    "    for _ in range(num_elements):\n",
    "        lst.append(randint(lower,upper))\n",
    "    return lst\n",
    "\n",
    "\n",
    "def mean(array):\n",
    " \n",
    "    length = len(array)\n",
    "    sum = 0\n",
    "    for i in range(length):\n",
    "        sum+=array[i]\n",
    "    mean = sum/length\n",
    "    return mean\n",
    "\n",
    "\n",
    "def variance(array):\n",
    "\n",
    "    length = len(array)\n",
    "    avg = mean(array)\n",
    "    sumsq = 0\n",
    "    for i in range(length):\n",
    "        sumsq+=(array[i]-avg)**2\n",
    "    variance = sumsq/length\n",
    "    return variance\n",
    "\n",
    "\n",
    "def std_dev(array):\n",
    "    from math import sqrt\n",
    "    return (sqrt(variance(array)))\n",
    "\n",
    "arr = random_array(50)\n",
    "print(arr)\n",
    "mean(\"mean arr is :\" arr)\n",
    "variance(\"variance arr is :\"arr)\n",
    "std_dev(\"std_dev arr is :\"arr)"
   ]
  },
  {
   "cell_type": "code",
   "execution_count": 37,
   "id": "d9df5a6b",
   "metadata": {
    "id": "d9df5a6b"
   },
   "outputs": [],
   "source": []
  }
 ],
 "metadata": {
  "colab": {
   "provenance": []
  },
  "kernelspec": {
   "display_name": "Python 3 (ipykernel)",
   "language": "python",
   "name": "python3"
  },
  "language_info": {
   "codemirror_mode": {
    "name": "ipython",
    "version": 3
   },
   "file_extension": ".py",
   "mimetype": "text/x-python",
   "name": "python",
   "nbconvert_exporter": "python",
   "pygments_lexer": "ipython3",
   "version": "3.12.3"
  }
 },
 "nbformat": 4,
 "nbformat_minor": 5
}
