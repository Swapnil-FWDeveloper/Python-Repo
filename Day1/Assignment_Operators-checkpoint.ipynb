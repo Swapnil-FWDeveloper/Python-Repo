{
 "cells": [
  {
   "cell_type": "code",
   "execution_count": 18,
   "id": "55027c54-f027-4ab4-8a0f-af76dc336257",
   "metadata": {},
   "outputs": [
    {
     "name": "stdout",
     "output_type": "stream",
     "text": [
      "12\n",
      "8\n",
      "20\n",
      "5.0\n"
     ]
    }
   ],
   "source": [
    "#Arithmetic Operations\n",
    "\n",
    "a=10\n",
    "b=2\n",
    "print(a+b)\n",
    "print(a-b)\n",
    "print(a*b)\n",
    "print(a/b)\n"
   ]
  },
  {
   "cell_type": "code",
   "execution_count": 29,
   "id": "49677d87-80ab-4c53-bf3d-48a18326bcdc",
   "metadata": {},
   "outputs": [
    {
     "name": "stdout",
     "output_type": "stream",
     "text": [
      "not equal\n"
     ]
    }
   ],
   "source": [
    "# Comparison Operators\n",
    "\n",
    "a=10\n",
    "b=5\n",
    "\n",
    "if a == b:\n",
    "    print(\"equal\")\n",
    "elif a != b: \n",
    "    print(\"not equal\")\n",
    "elif a > b: \n",
    "    print(\"greater than b\")\n",
    "elif a < b: \n",
    "    print(\"less than b\") "
   ]
  },
  {
   "cell_type": "code",
   "execution_count": 30,
   "id": "7e8a8b22-51b9-4f96-9646-fadc9de3634b",
   "metadata": {},
   "outputs": [
    {
     "name": "stdin",
     "output_type": "stream",
     "text": [
      "Enter the Value : True\n",
      "Enter the Value : False\n"
     ]
    },
    {
     "name": "stdout",
     "output_type": "stream",
     "text": [
      "True\n",
      "True\n",
      "False\n"
     ]
    }
   ],
   "source": [
    "#Logical Operators\n",
    "\n",
    "takeTrue=bool(input(\"Enter the Value :\"))\n",
    "takeFalse=bool(input(\"Enter the Value :\"))\n",
    "\n",
    "print(takeFalse and takeTrue)\n",
    "print(takeTrue or takeFalse)\n",
    "print(not takeTrue)\n",
    "\n",
    "#in and operator the output it should show is False as one value is false but it is showing True why?"
   ]
  },
  {
   "cell_type": "code",
   "execution_count": null,
   "id": "d7d26c82-ed84-4218-ae7c-21aed9e30cdf",
   "metadata": {},
   "outputs": [],
   "source": [
    "#Bitwise Operations\n",
    "\n",
    "#Not understand"
   ]
  },
  {
   "cell_type": "code",
   "execution_count": 4,
   "id": "31ac2dbf-6ce7-4deb-a077-0d422a6c9982",
   "metadata": {},
   "outputs": [
    {
     "name": "stdin",
     "output_type": "stream",
     "text": [
      "Enter the value : 2\n",
      "Enter the value : 5\n",
      "Enter the value : 6\n"
     ]
    },
    {
     "name": "stdout",
     "output_type": "stream",
     "text": [
      "<class 'float'>\n"
     ]
    }
   ],
   "source": [
    "#Precedence of Operators\n",
    "\n",
    "num1=int(input(\"Enter the value :\"))\n",
    "num2=int(input(\"Enter the value :\"))\n",
    "num3=int(input(\"Enter the value :\"))\n",
    "\n",
    "ans=(num1 + num2) * (num3 / (num2 - num1))\n",
    "print(ans)\n",
    "#print(type(ans))\n",
    "#why its type is showing(<class 'float'>)"
   ]
  },
  {
   "cell_type": "code",
   "execution_count": 6,
   "id": "d7e6ba63-d1a9-46e9-8c88-05628de161c4",
   "metadata": {},
   "outputs": [
    {
     "name": "stdin",
     "output_type": "stream",
     "text": [
      "Enter the integer : 2\n",
      "Enter the integer : 3\n"
     ]
    },
    {
     "name": "stdout",
     "output_type": "stream",
     "text": [
      "-0.625\n"
     ]
    }
   ],
   "source": [
    "#Mixed Operators\n",
    "\n",
    "a=int(input(\"Enter the integer :\"))\n",
    "b=int(input(\"Enter the integer :\"))\n",
    "ans=(a + b) * (a - b) / (a ** b)\n",
    "print(ans)"
   ]
  },
  {
   "cell_type": "code",
   "execution_count": 13,
   "id": "a3ebf5e9-eb16-4500-a89a-ce18a671e51b",
   "metadata": {},
   "outputs": [
    {
     "name": "stdin",
     "output_type": "stream",
     "text": [
      "Enter the first number : 3\n",
      "Enter the second number : 1\n",
      "Enter the third number : 5\n"
     ]
    },
    {
     "name": "stdout",
     "output_type": "stream",
     "text": [
      "num1 is between num2 and num3\n"
     ]
    }
   ],
   "source": [
    "#Complex Comparison\n",
    "\n",
    "num1=int(input(\"Enter the first number :\"))\n",
    "num2=int(input(\"Enter the second number :\"))\n",
    "num3=int(input(\"Enter the third number :\"))\n",
    "#if num1>num2 and num1<num3:\n",
    "if num2<num1<num3 :\n",
    "     print(\"num1 is between num2 and num3\")\n",
    "else:\n",
    "     print(\"num1 is not between num2 and num3\")"
   ]
  },
  {
   "cell_type": "code",
   "execution_count": null,
   "id": "9bf321cf-bb05-45a6-b93f-4c8453898967",
   "metadata": {},
   "outputs": [],
   "source": []
  }
 ],
 "metadata": {
  "kernelspec": {
   "display_name": "Python 3 (ipykernel)",
   "language": "python",
   "name": "python3"
  },
  "language_info": {
   "codemirror_mode": {
    "name": "ipython",
    "version": 3
   },
   "file_extension": ".py",
   "mimetype": "text/x-python",
   "name": "python",
   "nbconvert_exporter": "python",
   "pygments_lexer": "ipython3",
   "version": "3.12.1"
  }
 },
 "nbformat": 4,
 "nbformat_minor": 5
}
