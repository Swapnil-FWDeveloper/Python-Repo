{
 "cells": [
  {
   "cell_type": "code",
   "execution_count": 18,
   "id": "55027c54-f027-4ab4-8a0f-af76dc336257",
   "metadata": {},
   "outputs": [
    {
     "name": "stdout",
     "output_type": "stream",
     "text": [
      "12\n",
      "8\n",
      "20\n",
      "5.0\n"
     ]
    }
   ],
   "source": [
    "#Arithmetic Operations\n",
    "\n",
    "a=10\n",
    "b=2\n",
    "print(a+b)\n",
    "print(a-b)\n",
    "print(a*b)\n",
    "print(a/b)\n"
   ]
  },
  {
   "cell_type": "code",
   "execution_count": 29,
   "id": "49677d87-80ab-4c53-bf3d-48a18326bcdc",
   "metadata": {},
   "outputs": [
    {
     "name": "stdout",
     "output_type": "stream",
     "text": [
      "not equal\n"
     ]
    }
   ],
   "source": [
    "# Comparison Operators\n",
    "\n",
    "a=10\n",
    "b=5\n",
    "\n",
    "if a == b:\n",
    "    print(\"equal\")\n",
    "elif a != b: \n",
    "    print(\"not equal\")\n",
    "elif a > b: \n",
    "    print(\"greater than b\")\n",
    "elif a < b: \n",
    "    print(\"less than b\") "
   ]
  },
  {
   "cell_type": "code",
   "execution_count": 30,
   "id": "7e8a8b22-51b9-4f96-9646-fadc9de3634b",
   "metadata": {},
   "outputs": [
    {
     "name": "stdout",
     "output_type": "stream",
     "text": [
      "Enter the Value : True\n",
      "Enter the Value : False\n"
     ]
    },
    {
     "name": "stdout",
     "output_type": "stream",
     "text": [
      "True\n",
      "True\n",
      "False\n"
     ]
    }
   ],
   "source": [
    "#Logical Operators\n",
    "\n",
    "takeTrue=bool(input(\"Enter the Value :\"))\n",
    "takeFalse=bool(input(\"Enter the Value :\"))\n",
    "\n",
    "print(takeFalse and takeTrue)\n",
    "print(takeTrue or takeFalse)\n",
    "print(not takeTrue)\n",
    "\n",
    "#in and operator the output it should show is False as one value is false but it is showing True why?"
   ]
  },
  {
   "cell_type": "code",
   "execution_count": null,
   "id": "d7d26c82-ed84-4218-ae7c-21aed9e30cdf",
   "metadata": {},
   "outputs": [],
   "source": [
    "#Bitwise Operations\n",
    "\n",
    "#Not understand"
   ]
  },
  {
   "cell_type": "code",
   "execution_count": 4,
   "id": "31ac2dbf-6ce7-4deb-a077-0d422a6c9982",
   "metadata": {},
   "outputs": [
    {
     "name": "stdout",
     "output_type": "stream",
     "text": [
      "Enter the value : 2\n",
      "Enter the value : 5\n",
      "Enter the value : 6\n"
     ]
    },
    {
     "name": "stdout",
     "output_type": "stream",
     "text": [
      "<class 'float'>\n"
     ]
    }
   ],
   "source": [
    "#Precedence of Operators\n",
    "\n",
    "num1=int(input(\"Enter the value :\"))\n",
    "num2=int(input(\"Enter the value :\"))\n",
    "num3=int(input(\"Enter the value :\"))\n",
    "\n",
    "ans=(num1 + num2) * (num3 / (num2 - num1))\n",
    "print(ans)\n",
    "#print(type(ans))\n",
    "#why its type is showing(<class 'float'>)"
   ]
  },
  {
   "cell_type": "code",
   "execution_count": 6,
   "id": "d7e6ba63-d1a9-46e9-8c88-05628de161c4",
   "metadata": {},
   "outputs": [
    {
     "name": "stdout",
     "output_type": "stream",
     "text": [
      "Enter the integer : 2\n",
      "Enter the integer : 3\n"
     ]
    },
    {
     "name": "stdout",
     "output_type": "stream",
     "text": [
      "-0.625\n"
     ]
    }
   ],
   "source": [
    "#Mixed Operators\n",
    "\n",
    "a=int(input(\"Enter the integer :\"))\n",
    "b=int(input(\"Enter the integer :\"))\n",
    "ans=(a + b) * (a - b) / (a ** b)\n",
    "print(ans)"
   ]
  },
  {
   "cell_type": "code",
   "execution_count": 13,
   "id": "a3ebf5e9-eb16-4500-a89a-ce18a671e51b",
   "metadata": {},
   "outputs": [
    {
     "name": "stdout",
     "output_type": "stream",
     "text": [
      "Enter the first number : 3\n",
      "Enter the second number : 1\n",
      "Enter the third number : 5\n"
     ]
    },
    {
     "name": "stdout",
     "output_type": "stream",
     "text": [
      "num1 is between num2 and num3\n"
     ]
    }
   ],
   "source": [
    "#Complex Comparison\n",
    "\n",
    "num1=int(input(\"Enter the first number :\"))\n",
    "num2=int(input(\"Enter the second number :\"))\n",
    "num3=int(input(\"Enter the third number :\"))\n",
    "#if num1>num2 and num1<num3:\n",
    "if num2<num1<num3 :\n",
    "     print(\"num1 is between num2 and num3\")\n",
    "else:\n",
    "     print(\"num1 is not between num2 and num3\")"
   ]
  },
  {
   "cell_type": "code",
   "execution_count": 15,
   "id": "9bf321cf-bb05-45a6-b93f-4c8453898967",
   "metadata": {},
   "outputs": [
    {
     "name": "stdout",
     "output_type": "stream",
     "text": [
      "Enter the seconds : 365\n"
     ]
    },
    {
     "name": "stdout",
     "output_type": "stream",
     "text": [
      "60 seconds is equal to:\n",
      "Hours: 0\n",
      "Minutes: 365\n",
      "Seconds: 5\n"
     ]
    }
   ],
   "source": [
    "SecTime=int(input(\"Enter the seconds :\"))\n",
    "hours=SecTime//3600\n",
    "minute=SecTime%3600\n",
    "Second=SecTime%60\n",
    "\n",
    "#hete f = templet literal (``) of JavaScript and ` are used for dynamic data printing{}\n",
    "print(f\"{total_seconds} seconds is equal to:\")\n",
    "print(f\"Hours: {hours}\")\n",
    "print(f\"Minutes: {minute}\")\n",
    "print(f\"Seconds: {Second}\")"
   ]
  },
  {
   "cell_type": "code",
   "execution_count": 17,
   "id": "0c1d7632-c37f-40a9-acc1-df3107e26523",
   "metadata": {},
   "outputs": [
    {
     "name": "stdout",
     "output_type": "stream",
     "text": [
      "Swaping the value with b :  5\n",
      "Swaping the value with a :  6\n"
     ]
    },
    {
     "name": "stdout",
     "output_type": "stream",
     "text": [
      "a=  5\n",
      "b=  6\n"
     ]
    }
   ],
   "source": [
    "#Swap Variables\n",
    "a=int(input(\"Swaping the value with b : \"))\n",
    "b=int(input(\"Swaping the value with a : \"))\n",
    "a, b = b, a\n",
    "print(\"a= \",b)\n",
    "print(\"b= \",a)"
   ]
  },
  {
   "cell_type": "code",
   "execution_count": null,
   "id": "d41e8674-1250-4954-b635-66345a122a6d",
   "metadata": {},
   "outputs": [],
   "source": [
    "#Investment Growth\n",
    "\n",
    "principal_amount=float(input(\"Enter the principal amount : \"))\n",
    "interest_rate=float(input(\"Enter the interest rate : \"))\n",
    "number_of_years=float(input(\"Enter the number of years : \"))\n",
    "\n",
    "#A = P * (1 + r/n) ** (nt)\n",
    "#This question is incomplete as in the file also the values are not mentioned properly like A: what, what is p\n",
    "Total_intrest="
   ]
  },
  {
   "cell_type": "code",
   "execution_count": 4,
   "id": "fa7a9c6e-c6dc-450c-aaca-61b35f402386",
   "metadata": {},
   "outputs": [
    {
     "name": "stdout",
     "output_type": "stream",
     "text": [
      "Enter the Temperature :  36\n"
     ]
    },
    {
     "name": "stdout",
     "output_type": "stream",
     "text": [
      "36.0 degrees Celsius is equal to 309.15 Kelvin\n",
      "36.0 degrees Celsius is equal to 96.8 Fahrenheit\n"
     ]
    }
   ],
   "source": [
    "# Temperature Converter\n",
    "\n",
    "#℉=(℃*1.8)+32\n",
    "Celsius= float(input(\"Enter the Temperature : \"))\n",
    "Kelvin=Celsius+273.15\n",
    "Fahrenheit=Celsius*1.8+32\n",
    "\n",
    "print(f\"{Celsius} degrees Celsius is equal to {Kelvin} Kelvin\")\n",
    "#here f = `` of JavaScript and we have kept our variable inside {} so that we can direct access to the value.\n",
    "#print(\"Temperature in Kelvin :\",Kelvin)\n",
    "\n",
    "print(f\"{Celsius} degrees Celsius is equal to {Fahrenheit} Fahrenheit\")\n",
    "#print(\"Temperature in Fahrenheit :\",Fahrenheit)\n"
   ]
  },
  {
   "cell_type": "code",
   "execution_count": 11,
   "id": "93b26e6f-2b8a-4480-9a7a-666253a9eadc",
   "metadata": {},
   "outputs": [
    {
     "name": "stdout",
     "output_type": "stream",
     "text": [
      "Enter Distance :  600\n",
      "Enter time in minutes :  5000\n"
     ]
    },
    {
     "name": "stdout",
     "output_type": "stream",
     "text": [
      "600.0 km/h\n",
      "Total speed is 600.0 km/h \n"
     ]
    }
   ],
   "source": [
    "#Speed Calculator\n",
    "\n",
    "Distance_Km = float(input(\"Enter Distance : \"))\n",
    "Time_min=float(input(\"Enter time in minutes : \"))\n",
    "#Time_Hrs= Time_min/60\n",
    "\n",
    "speed=Distance_Km/Time_Hrs\n",
    "print(speed ,\"km/h\")\n",
    "print(f\"Total speed is {speed} km/h \") "
   ]
  },
  {
   "cell_type": "code",
   "execution_count": 15,
   "id": "2b0fb230-c1b9-4776-b0ce-ece0f18ffa1d",
   "metadata": {},
   "outputs": [
    {
     "name": "stdout",
     "output_type": "stream",
     "text": [
      "Enter the height of the triangle:  5\n",
      "Enter the base of the triangle:  5\n"
     ]
    },
    {
     "name": "stdout",
     "output_type": "stream",
     "text": [
      "Area of the triangle is:25\n"
     ]
    }
   ],
   "source": [
    "# Triangle Area Calculator**\n",
    "height= float(input(\"Enter the height of the triangle: \" ) )\n",
    "base =float(input(\"Enter the base of the triangle: \"))\n",
    "area = int(height*base)\n",
    "\n",
    "print(f\"Area of the triangle is: {area}\")"
   ]
  },
  {
   "cell_type": "code",
   "execution_count": 17,
   "id": "89030682-4898-472e-bc9d-1a3d6573e77a",
   "metadata": {},
   "outputs": [
    {
     "name": "stdout",
     "output_type": "stream",
     "text": [
      "Enter the radius of sphere:  60\n"
     ]
    },
    {
     "name": "stdout",
     "output_type": "stream",
     "text": [
      "The volume of the sphere is: 678584\n"
     ]
    }
   ],
   "source": [
    "#Volume of a Sphere\n",
    "#pi=3.14\n",
    "import math\n",
    "radius = float(input(\"Enter the radius of sphere: \"))\n",
    "volume = int(math.pi*(radius**3))\n",
    "\n",
    "print(f\"The volume of the sphere is: {volume}\")\n"
   ]
  },
  {
   "cell_type": "code",
   "execution_count": 20,
   "id": "b8b7eed7-86e7-4878-b7e2-beb8feb42480",
   "metadata": {},
   "outputs": [
    {
     "name": "stdout",
     "output_type": "stream",
     "text": [
      "Enter the time duration in seconds:  6500\n"
     ]
    },
    {
     "name": "stdout",
     "output_type": "stream",
     "text": [
      "6500 seconds is equal to 1 hours, 48 minutes, and 20 seconds\n"
     ]
    }
   ],
   "source": [
    "#Time Conversion\n",
    "\n",
    "seconds = int(input(\"Enter the time duration in seconds: \"))\n",
    "hours =seconds // 3600\n",
    "minutes =(seconds%3600) // 60\n",
    "seconds_left = seconds%60\n",
    "\n",
    "print(f\"{seconds} seconds is equal to {hours} hours, {minutes} minutes, and {seconds_left} seconds\")\n"
   ]
  },
  {
   "cell_type": "code",
   "execution_count": null,
   "id": "017b2c01-3a53-4c40-97b7-adcb6cc70583",
   "metadata": {},
   "outputs": [],
   "source": []
  }
 ],
 "metadata": {
  "kernelspec": {
   "display_name": "Python 3 (ipykernel)",
   "language": "python",
   "name": "python3"
  },
  "language_info": {
   "codemirror_mode": {
    "name": "ipython",
    "version": 3
   },
   "file_extension": ".py",
   "mimetype": "text/x-python",
   "name": "python",
   "nbconvert_exporter": "python",
   "pygments_lexer": "ipython3",
   "version": "3.12.1"
  }
 },
 "nbformat": 4,
 "nbformat_minor": 5
}
