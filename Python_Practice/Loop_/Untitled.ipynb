{
 "cells": [
  {
   "cell_type": "code",
   "execution_count": null,
   "id": "a6dd77e1-7d91-4272-b079-856b3bbf7db2",
   "metadata": {},
   "outputs": [],
   "source": [
    "#  Write a Python program to print all numbers from 1 to 10 using a while loop.\n",
    "num = 1\n",
    "while num <= 10:\n",
    "    print(num)\n",
    "    num += 1 "
   ]
  },
  {
   "cell_type": "code",
   "execution_count": null,
   "id": "7be0889b-d71d-4e7e-b1a1-dea3b0d4623b",
   "metadata": {},
   "outputs": [],
   "source": [
    "# Write a Python program to find the sum of all numbers from 1 to 100 using a for loop.\n",
    "sum=0\n",
    "for i in range(1,101) :\n",
    "    sum+=i\n",
    "print(sum)\n",
    "\n",
    "# Another Method\n",
    "sum=0\n",
    "for i in range(101) :\n",
    "    # sum+=1\n",
    "    sum+=i+3\n",
    "print(sum)    "
   ]
  },
  {
   "cell_type": "code",
   "execution_count": null,
   "id": "64df5395-3b98-439a-8cdf-cd357d6e254a",
   "metadata": {},
   "outputs": [],
   "source": [
    "# Write a Python program to print the multiplication table of a given number using a while loop.\n",
    "\n",
    "n = int(input(\"Enter the number : \"))\n",
    "i=1\n",
    "num = 10\n",
    "while i<=num :\n",
    "    print(n*i)\n",
    "    i+=1"
   ]
  },
  {
   "cell_type": "code",
   "execution_count": null,
   "id": "cff931d4-6cc1-42db-9b19-f3d7cbe39bd5",
   "metadata": {},
   "outputs": [],
   "source": [
    "# Write a Python program to print the elements of a list using a for loop.\n",
    "Ele=[1,2,3,4,5]\n",
    "\n",
    "for i in Ele :\n",
    "    print(i)"
   ]
  },
  {
   "cell_type": "code",
   "execution_count": 6,
   "id": "72c4fb20-3cc7-4d0e-b3c3-36c5175eea2b",
   "metadata": {},
   "outputs": [
    {
     "name": "stdin",
     "output_type": "stream",
     "text": [
      "Enter the number :  5\n"
     ]
    },
    {
     "name": "stdout",
     "output_type": "stream",
     "text": [
      "Factorial of 5 is 120\n"
     ]
    }
   ],
   "source": [
    " # Write a Python program to find the factorial of a number using a while loop.\n",
    "\n",
    "n=int(input(\"Enter the number : \"))\n",
    "factl=1\n",
    "i=1\n",
    "while i <=n :\n",
    "    factl*=i\n",
    "    # print(factl)\n",
    "    i+=1\n",
    "print(f\"Factorial of {n} is {factl}\")    "
   ]
  },
  {
   "cell_type": "code",
   "execution_count": 10,
   "id": "5391e841-5237-436f-817d-aa0abcd4bdb7",
   "metadata": {},
   "outputs": [
    {
     "name": "stdin",
     "output_type": "stream",
     "text": [
      "Enter the number :  7\n"
     ]
    },
    {
     "name": "stdout",
     "output_type": "stream",
     "text": [
      "7 is not Prime\n"
     ]
    }
   ],
   "source": [
    "# . Write a Python program to check if a given number is prime or not using a for loop.\n",
    "\n",
    "num=int(input(\"Enter the number : \"))\n",
    "count=0\n",
    "for i in range(2,num) :\n",
    "    if num%i == 1 :\n",
    "       count+=1\n",
    "        \n",
    "if(count == 2) :\n",
    "    print(f\"{num} is Prime\")\n",
    "else :\n",
    "    print(f\"{num} is not Prime\")"
   ]
  },
  {
   "cell_type": "code",
   "execution_count": null,
   "id": "ae05ac26-8e7c-475c-9386-33b9af35cdfe",
   "metadata": {},
   "outputs": [],
   "source": [
    "# Write a Python program to print Fibonacci series up to n terms using a for loop."
   ]
  },
  {
   "cell_type": "code",
   "execution_count": null,
   "id": "aa55fd46-5842-4d0b-b89e-d138284adcc7",
   "metadata": {},
   "outputs": [],
   "source": [
    "# Write a Python program to find the GCD (Greatest Common Divisor) of two numbers using a while loop."
   ]
  },
  {
   "cell_type": "code",
   "execution_count": null,
   "id": "028a3f46-ce0c-455c-9460-c9f6559678cb",
   "metadata": {},
   "outputs": [],
   "source": [
    "# Write a Python program to sort a list of numbers using the bubble sort algorithm and a for loop."
   ]
  },
  {
   "cell_type": "code",
   "execution_count": null,
   "id": "3a05f8d2-dfaa-4cbf-85ee-7a73c06bdb67",
   "metadata": {},
   "outputs": [],
   "source": [
    "# Write a Python program to generate all permutations of a list using recursion and loops."
   ]
  },
  {
   "cell_type": "code",
   "execution_count": null,
   "id": "bba0807b-7d75-4aae-8b70-69922690666b",
   "metadata": {},
   "outputs": [],
   "source": [
    "# Write a Python program to find the longest common subsequence of two strings using "
   ]
  },
  {
   "cell_type": "code",
   "execution_count": null,
   "id": "e0c352ba-ec94-4481-95f4-aa0df4cd6f62",
   "metadata": {},
   "outputs": [],
   "source": []
  },
  {
   "cell_type": "code",
   "execution_count": null,
   "id": "083f277e-2c0a-4f99-a0ce-df8e274abc6e",
   "metadata": {},
   "outputs": [],
   "source": []
  },
  {
   "cell_type": "code",
   "execution_count": null,
   "id": "8494d22e-208b-47bb-81c1-4f7339e1905a",
   "metadata": {},
   "outputs": [],
   "source": []
  },
  {
   "cell_type": "code",
   "execution_count": null,
   "id": "712a1314-c3f8-4182-a9ab-f1a8fde48c0b",
   "metadata": {},
   "outputs": [],
   "source": []
  },
  {
   "cell_type": "code",
   "execution_count": null,
   "id": "6d66d69f-e639-46b9-a2ea-cbafffc2c6ea",
   "metadata": {},
   "outputs": [],
   "source": []
  },
  {
   "cell_type": "code",
   "execution_count": null,
   "id": "4ced5b22-d0e1-4a0f-be60-8824c17d93df",
   "metadata": {},
   "outputs": [],
   "source": []
  }
 ],
 "metadata": {
  "kernelspec": {
   "display_name": "Python 3 (ipykernel)",
   "language": "python",
   "name": "python3"
  },
  "language_info": {
   "codemirror_mode": {
    "name": "ipython",
    "version": 3
   },
   "file_extension": ".py",
   "mimetype": "text/x-python",
   "name": "python",
   "nbconvert_exporter": "python",
   "pygments_lexer": "ipython3",
   "version": "3.12.1"
  }
 },
 "nbformat": 4,
 "nbformat_minor": 5
}
