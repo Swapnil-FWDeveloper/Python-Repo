{
 "cells": [
  {
   "cell_type": "code",
   "execution_count": 4,
   "id": "a6dd77e1-7d91-4272-b079-856b3bbf7db2",
   "metadata": {},
   "outputs": [
    {
     "name": "stdin",
     "output_type": "stream",
     "text": [
      "Enter the number :  3\n"
     ]
    },
    {
     "name": "stdout",
     "output_type": "stream",
     "text": [
      "3\n",
      "6\n",
      "9\n",
      "12\n",
      "15\n",
      "18\n",
      "21\n",
      "24\n",
      "27\n",
      "30\n"
     ]
    }
   ],
   "source": [
    "#  Write a Python program to print all numbers from 1 to 10 using a while loop.\n",
    "num = 1\n",
    "while num <= 10:\n",
    "    print(num)\n",
    "    num += 1 "
   ]
  },
  {
   "cell_type": "code",
   "execution_count": 3,
   "id": "7be0889b-d71d-4e7e-b1a1-dea3b0d4623b",
   "metadata": {},
   "outputs": [
    {
     "name": "stdout",
     "output_type": "stream",
     "text": [
      "5050\n",
      "5353\n"
     ]
    }
   ],
   "source": [
    "# Write a Python program to find the sum of all numbers from 1 to 100 using a for loop.\n",
    "sum=0\n",
    "for i in range(1,101) :\n",
    "    sum+=i\n",
    "print(sum)\n",
    "\n",
    "# Another Method\n",
    "sum=0\n",
    "for i in range(101) :\n",
    "    # sum+=1\n",
    "    sum+=i+3\n",
    "print(sum)    "
   ]
  },
  {
   "cell_type": "code",
   "execution_count": 1,
   "id": "64df5395-3b98-439a-8cdf-cd357d6e254a",
   "metadata": {},
   "outputs": [
    {
     "name": "stdin",
     "output_type": "stream",
     "text": [
      "Enter the number :  5\n"
     ]
    },
    {
     "name": "stdout",
     "output_type": "stream",
     "text": [
      "5\n",
      "10\n",
      "15\n",
      "20\n",
      "25\n",
      "30\n",
      "35\n",
      "40\n",
      "45\n",
      "50\n"
     ]
    }
   ],
   "source": [
    "# Write a Python program to print the multiplication table of a given number using a while loop.\n",
    "\n",
    "n = int(input(\"Enter the number : \"))\n",
    "i=1\n",
    "num = 10\n",
    "while i<=num :\n",
    "    print(n*i)\n",
    "    i+=1"
   ]
  },
  {
   "cell_type": "code",
   "execution_count": 8,
   "id": "cff931d4-6cc1-42db-9b19-f3d7cbe39bd5",
   "metadata": {},
   "outputs": [
    {
     "name": "stdout",
     "output_type": "stream",
     "text": [
      "1\n",
      "2\n",
      "3\n",
      "4\n",
      "5\n"
     ]
    }
   ],
   "source": [
    "# Write a Python program to print the elements of a list using a for loop.\n",
    "Ele=[1,2,3,4,5]\n",
    "\n",
    "for i in Ele :\n",
    "    print(i)"
   ]
  },
  {
   "cell_type": "code",
   "execution_count": null,
   "id": "72c4fb20-3cc7-4d0e-b3c3-36c5175eea2b",
   "metadata": {},
   "outputs": [],
   "source": [
    " # Write a Python program to find the factorial of a number using a while loop.\n",
    "\n",
    "n=int(input(\"Enter the number : \"))\n",
    "i=n-1\n",
    "sum=0\n",
    "while i<n :\n",
    "    sum+=i*n\n",
    "print(sum)    \n",
    "    \n"
   ]
  },
  {
   "cell_type": "code",
   "execution_count": null,
   "id": "5391e841-5237-436f-817d-aa0abcd4bdb7",
   "metadata": {},
   "outputs": [],
   "source": [
    "# . Write a Python program to check if a given number is prime or not using a for loop."
   ]
  },
  {
   "cell_type": "code",
   "execution_count": null,
   "id": "ae05ac26-8e7c-475c-9386-33b9af35cdfe",
   "metadata": {},
   "outputs": [],
   "source": [
    "# Write a Python program to print Fibonacci series up to n terms using a for loop."
   ]
  },
  {
   "cell_type": "code",
   "execution_count": null,
   "id": "aa55fd46-5842-4d0b-b89e-d138284adcc7",
   "metadata": {},
   "outputs": [],
   "source": [
    "# Write a Python program to find the GCD (Greatest Common Divisor) of two numbers using a while loop."
   ]
  },
  {
   "cell_type": "code",
   "execution_count": null,
   "id": "028a3f46-ce0c-455c-9460-c9f6559678cb",
   "metadata": {},
   "outputs": [],
   "source": [
    "# Write a Python program to sort a list of numbers using the bubble sort algorithm and a for loop."
   ]
  },
  {
   "cell_type": "code",
   "execution_count": null,
   "id": "3a05f8d2-dfaa-4cbf-85ee-7a73c06bdb67",
   "metadata": {},
   "outputs": [],
   "source": [
    "# Write a Python program to generate all permutations of a list using recursion and loops."
   ]
  },
  {
   "cell_type": "code",
   "execution_count": null,
   "id": "bba0807b-7d75-4aae-8b70-69922690666b",
   "metadata": {},
   "outputs": [],
   "source": [
    "# Write a Python program to find the longest common subsequence of two strings using "
   ]
  }
 ],
 "metadata": {
  "kernelspec": {
   "display_name": "Python 3 (ipykernel)",
   "language": "python",
   "name": "python3"
  },
  "language_info": {
   "codemirror_mode": {
    "name": "ipython",
    "version": 3
   },
   "file_extension": ".py",
   "mimetype": "text/x-python",
   "name": "python",
   "nbconvert_exporter": "python",
   "pygments_lexer": "ipython3",
   "version": "3.12.1"
  }
 },
 "nbformat": 4,
 "nbformat_minor": 5
}
