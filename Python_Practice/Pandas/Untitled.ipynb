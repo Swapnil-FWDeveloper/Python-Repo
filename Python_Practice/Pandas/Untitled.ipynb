{
 "cells": [
  {
   "cell_type": "code",
   "execution_count": null,
   "id": "99994161-aa27-4a40-910d-03de7faff81f",
   "metadata": {},
   "outputs": [],
   "source": [
    "# Panda is the python library which is used for data manupulation and data analysis also it is used for structuring data.\n",
    "\n",
    "# Series in Pandas : Python, a \"pandas Series\" refers to a one-dimensional labeled array capable of holding data of any type (integer, string, float, etc.). It is similar to a one-dimensional NumPy array but with additional features like axis labels (index), which allows for more convenient data manipulation and analysis.\n",
    "# Data Frames: DataFrame is a two-dimensional labeled data structure capable of holding data of different types (e.g., integers, floats, strings, etc.) in columns.\n",
    "\n",
    "# Diffrence between Series in panda and Data Frames\n",
    "# pandas Series represents a single column of data, a DataFrame represents a tabular data structure with multiple columns and rows.\n"
   ]
  },
  {
   "cell_type": "code",
   "execution_count": 6,
   "id": "7c97d94d-f390-4edf-9c79-3e01989d20f3",
   "metadata": {},
   "outputs": [
    {
     "name": "stdout",
     "output_type": "stream",
     "text": [
      "      Name  Age Gender\n",
      "0  Swapnil   21   Male\n",
      "1   Shende   21   Male\n"
     ]
    }
   ],
   "source": [
    " # Creation of Data Frames in Pandas\n",
    "\n",
    "import pandas as pd\n",
    "data = {\"Name\" :[\"Swapnil\",\"Shende\"],\n",
    "        \"Age\":[21,21],\n",
    "        \"Gender\":[\"Male\",\"Male\"]\n",
    "       }\n",
    "df=pd.DataFrame(data)\n",
    "print(df) \n",
    "\n",
    "# so here we have created data frames \n",
    "# remember DataFrame is imp for creating DataFrames\n"
   ]
  },
  {
   "cell_type": "code",
   "execution_count": 21,
   "id": "d984b561-f7ae-4f6d-bc95-9848251c2c9f",
   "metadata": {},
   "outputs": [
    {
     "name": "stdout",
     "output_type": "stream",
     "text": [
      "      age     sex   bmi  children smoker     region   premium\n",
      "0      64    male  24.7         1     no  northwest  30166.62\n",
      "1      64  female  31.3         2    yes  southwest  47291.06\n",
      "2      64  female  39.3         0     no  northeast  14901.52\n",
      "3      64  female  33.8         1    yes  southwest  47928.03\n",
      "4      64    male  34.5         0     no  southwest  13822.80\n",
      "...   ...     ...   ...       ...    ...        ...       ...\n",
      "1333   18    male  26.1         0     no  northeast   1708.93\n",
      "1334   18    male  28.3         1     no  northeast  11272.33\n",
      "1335   18    male  53.1         0     no  southeast   1163.46\n",
      "1336   18  female  31.9         0     no  northeast   2205.98\n",
      "1337   18  female  36.9         0     no  southeast   1629.83\n",
      "\n",
      "[1338 rows x 7 columns]\n"
     ]
    }
   ],
   "source": [
    "# data=pd.read_csv(\"\") Add the csv file location and remove \\ to / or else if file present in folder write the name of file only for CSV \n",
    "\n",
    "# for excel\n",
    "data=pd.read_excel(\"insurance.xlsx\")\n",
    "print(data)"
   ]
  },
  {
   "cell_type": "code",
   "execution_count": 26,
   "id": "33b5b597-86a4-43a6-9261-4085ac2537ac",
   "metadata": {},
   "outputs": [
    {
     "name": "stdout",
     "output_type": "stream",
     "text": [
      "<class 'pandas.core.frame.DataFrame'>\n",
      "RangeIndex: 1338 entries, 0 to 1337\n",
      "Data columns (total 7 columns):\n",
      " #   Column    Non-Null Count  Dtype  \n",
      "---  ------    --------------  -----  \n",
      " 0   age       1338 non-null   int64  \n",
      " 1   sex       1338 non-null   object \n",
      " 2   bmi       1338 non-null   float64\n",
      " 3   children  1338 non-null   int64  \n",
      " 4   smoker    1338 non-null   object \n",
      " 5   region    1338 non-null   object \n",
      " 6   premium   1338 non-null   float64\n",
      "dtypes: float64(2), int64(2), object(3)\n",
      "memory usage: 73.3+ KB\n",
      "None\n"
     ]
    }
   ],
   "source": [
    "# Exploring Data in Pandas\n",
    "import pandas as pd\n",
    "data=pd.read_excel(\"insurance.xlsx\")\n",
    "# print(data)\n",
    "\n",
    "# so in this data we are having 1000 of data but we dont know what is data missing \n",
    "# like any cell value or extra cells in a row's of colums so not we will clean the data\n",
    "\n",
    "# let say want to see starting 10 data\n",
    "# print(data.head(10))\n",
    "# print(data.tail(10)) #see ending 10 data\n",
    "\n",
    "# If want to check the data type of each \n",
    "print(data.info())\n",
    "# it will give total column and rows\n",
    "# like if have 2 col then it will show \n",
    "# nameofcol with its data and memory space \n"
   ]
  },
  {
   "cell_type": "code",
   "execution_count": 28,
   "id": "475ee3d1-8cb2-47a0-82b8-666f7657900a",
   "metadata": {},
   "outputs": [
    {
     "name": "stdout",
     "output_type": "stream",
     "text": [
      "               age          bmi     children       premium\n",
      "count  1338.000000  1338.000000  1338.000000   1338.000000\n",
      "mean     39.207025    30.665471     1.094918  13270.422414\n",
      "std      14.049960     6.098382     1.205493  12110.011240\n",
      "min      18.000000    16.000000     0.000000   1121.870000\n",
      "25%      27.000000    26.300000     0.000000   4740.287500\n",
      "50%      39.000000    30.400000     1.000000   9382.030000\n",
      "75%      51.000000    34.700000     2.000000  16639.915000\n",
      "max      64.000000    53.100000     5.000000  63770.430000\n"
     ]
    }
   ],
   "source": [
    "import pandas as pd\n",
    "data=pd.read_excel(\"insurance.xlsx\")\n",
    "print(data.describe())"
   ]
  },
  {
   "cell_type": "code",
   "execution_count": 29,
   "id": "832ce079-8106-475e-ac32-2766ef5ad20d",
   "metadata": {},
   "outputs": [
    {
     "name": "stdout",
     "output_type": "stream",
     "text": [
      "age         0\n",
      "sex         0\n",
      "bmi         0\n",
      "children    0\n",
      "smoker      0\n",
      "region      0\n",
      "premium     0\n",
      "dtype: int64\n"
     ]
    }
   ],
   "source": [
    "import pandas as pd\n",
    "data=pd.read_excel(\"insurance.xlsx\")\n",
    "print(data.isnull().sum())\n",
    "\n",
    "# it will find all the null value of the data and tell you how much is the null value in which col or row"
   ]
  }
 ],
 "metadata": {
  "kernelspec": {
   "display_name": "Python 3 (ipykernel)",
   "language": "python",
   "name": "python3"
  },
  "language_info": {
   "codemirror_mode": {
    "name": "ipython",
    "version": 3
   },
   "file_extension": ".py",
   "mimetype": "text/x-python",
   "name": "python",
   "nbconvert_exporter": "python",
   "pygments_lexer": "ipython3",
   "version": "3.12.1"
  }
 },
 "nbformat": 4,
 "nbformat_minor": 5
}
