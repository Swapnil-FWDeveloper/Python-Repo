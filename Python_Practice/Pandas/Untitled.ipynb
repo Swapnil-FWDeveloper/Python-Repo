{
 "cells": [
  {
   "cell_type": "code",
   "execution_count": null,
   "id": "99994161-aa27-4a40-910d-03de7faff81f",
   "metadata": {},
   "outputs": [],
   "source": [
    "# Panda is the python library which is used for data manupulation and data analysis also it is used for structuring data.\n"
   ]
  }
 ],
 "metadata": {
  "kernelspec": {
   "display_name": "Python 3 (ipykernel)",
   "language": "python",
   "name": "python3"
  },
  "language_info": {
   "codemirror_mode": {
    "name": "ipython",
    "version": 3
   },
   "file_extension": ".py",
   "mimetype": "text/x-python",
   "name": "python",
   "nbconvert_exporter": "python",
   "pygments_lexer": "ipython3",
   "version": "3.12.1"
  }
 },
 "nbformat": 4,
 "nbformat_minor": 5
}
