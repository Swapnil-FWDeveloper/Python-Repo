{
 "cells": [
  {
   "cell_type": "markdown",
   "id": "a0865d2d-ad51-4f75-b631-f1bc9fb05238",
   "metadata": {},
   "source": [
    "Array Attributes "
   ]
  },
  {
   "cell_type": "code",
   "execution_count": 2,
   "id": "067a62ca-47f2-4b74-bc79-88c4596f5028",
   "metadata": {},
   "outputs": [
    {
     "name": "stdout",
     "output_type": "stream",
     "text": [
      "[1 2 3 4 5 6]\n"
     ]
    }
   ],
   "source": [
    "# create a Array\n",
    "import numpy as np\n",
    "arr=np.array([1,2,3,4,5,6]);\n",
    "print(arr)"
   ]
  },
  {
   "cell_type": "code",
   "execution_count": 18,
   "id": "51d68e07-d723-4b22-8316-29d191049dd1",
   "metadata": {},
   "outputs": [
    {
     "name": "stdout",
     "output_type": "stream",
     "text": [
      "3\n"
     ]
    }
   ],
   "source": [
    "# Insert the correct argument for creating a NumPy array with 2 dimensions.\n",
    "# ndim is used to find the dimention of the array\n",
    "# arr=np.array([[1,2,3,4],[1,2,3,4]])\n",
    "# arr=np.array([[[1,2,3,4],[1,2,3,4],[1,2,3,4]]]) # - >3d\n",
    "import numpy as np\n",
    "arr=np.array([[[1,2,3,4],[1,2,3,4],[1,2,3,4]]])\n",
    "print(arr.ndim)"
   ]
  },
  {
   "cell_type": "code",
   "execution_count": 8,
   "id": "10f630dc-2d37-4048-971c-9e6570feaa69",
   "metadata": {},
   "outputs": [
    {
     "name": "stdout",
     "output_type": "stream",
     "text": [
      "(2, 3)\n"
     ]
    }
   ],
   "source": [
    "# arr=np.array([1,2,3,4,5])\n",
    "arr=np.array([[1,2,3],[1,2,3]])\n",
    "print(arr.shape)"
   ]
  },
  {
   "cell_type": "code",
   "execution_count": 17,
   "id": "3e0c19b5-735d-4119-978d-b75706e30a25",
   "metadata": {},
   "outputs": [
    {
     "name": "stdout",
     "output_type": "stream",
     "text": [
      "(5, 2, 3)\n"
     ]
    }
   ],
   "source": [
    "import numpy as np\n",
    "arr = np.array([\n",
    "    [[1, 2, 3], [4, 5, 6]],\n",
    "    [[10, 11, 12], [13, 14, 15]],\n",
    "    [[19, 20, 21], [22, 23, 24]],\n",
    "    [[28,29,30],[16, 17, 18]],\n",
    "    [[28,29,30],[16, 17, 18]]])\n",
    "print(arr.shape)"
   ]
  },
  {
   "cell_type": "code",
   "execution_count": 44,
   "id": "c2183a15-9996-4bb2-a749-70d831d92247",
   "metadata": {},
   "outputs": [
    {
     "name": "stdout",
     "output_type": "stream",
     "text": [
      "[[1 2]\n",
      " [3 4]]\n",
      " no of shape is : (2, 2)\n",
      " no if size is :  4\n",
      " no of dimention is : 2\n",
      "[[1 2 3 4]]\n",
      " no of dimention is : 2\n",
      " no of shape is : (4,)\n",
      " no if size is :  4\n",
      " no of dimention is : 1\n"
     ]
    }
   ],
   "source": [
    "arr=np.array([1,2,3,4])\n",
    "arr1=arr.reshape(2,2)\n",
    "print(arr1)\n",
    "print(\" no of shape is :\", arr1.shape),\n",
    "print(\" no if size is : \", arr1.size),\n",
    "print(\" no of dimention is :\",arr1.ndim)\n",
    "arr2=np.array([1,2,3,4],ndmin=2)\n",
    "print(arr2)\n",
    "print(\" no of dimention is :\",arr2.ndim)\n",
    "\n",
    "\n",
    "# Building back to one dimension using reshape\n",
    "\n",
    "\n",
    "x = arr2.reshape(-1)\n",
    "print(\" no of shape is :\", x.shape),\n",
    "print(\" no if size is : \", x.size),\n",
    "print(\" no of dimention is :\",x.ndim)"
   ]
  },
  {
   "cell_type": "code",
   "execution_count": 19,
   "id": "0024e10f-f55b-4729-988e-0db7936a0d93",
   "metadata": {},
   "outputs": [
    {
     "name": "stdout",
     "output_type": "stream",
     "text": [
      "1\n"
     ]
    }
   ],
   "source": [
    "arr = np.array([1,2,3,4,5])\n",
    "print(arr[0])\n"
   ]
  }
 ],
 "metadata": {
  "kernelspec": {
   "display_name": "Python 3 (ipykernel)",
   "language": "python",
   "name": "python3"
  },
  "language_info": {
   "codemirror_mode": {
    "name": "ipython",
    "version": 3
   },
   "file_extension": ".py",
   "mimetype": "text/x-python",
   "name": "python",
   "nbconvert_exporter": "python",
   "pygments_lexer": "ipython3",
   "version": "3.12.1"
  }
 },
 "nbformat": 4,
 "nbformat_minor": 5
}
