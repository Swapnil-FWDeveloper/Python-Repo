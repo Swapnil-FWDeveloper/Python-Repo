{
 "cells": [
  {
   "cell_type": "code",
   "execution_count": 2,
   "id": "067a62ca-47f2-4b74-bc79-88c4596f5028",
   "metadata": {},
   "outputs": [
    {
     "name": "stdout",
     "output_type": "stream",
     "text": [
      "[1 2 3 4 5 6]\n"
     ]
    }
   ],
   "source": [
    "# create a Array\n",
    "import numpy as np\n",
    "arr=np.array([1,2,3,4,5,6]);\n",
    "print(arr)"
   ]
  },
  {
   "cell_type": "code",
   "execution_count": 14,
   "id": "51d68e07-d723-4b22-8316-29d191049dd1",
   "metadata": {},
   "outputs": [
    {
     "name": "stdout",
     "output_type": "stream",
     "text": [
      "2\n"
     ]
    }
   ],
   "source": [
    "# Insert the correct argument for creating a NumPy array with 2 dimensions.\n",
    "# ndim is used to find the dimention of the array\n",
    "arr=np.array([[1,2,3,4],[1,2,3,4]])\n",
    "# arr=np.array([[[1,2,3,4],[1,2,3,4],[1,2,3,4]]]) # - >3d\n",
    "print(arr.ndim)"
   ]
  },
  {
   "cell_type": "code",
   "execution_count": null,
   "id": "10f630dc-2d37-4048-971c-9e6570feaa69",
   "metadata": {},
   "outputs": [],
   "source": []
  },
  {
   "cell_type": "code",
   "execution_count": null,
   "id": "3e0c19b5-735d-4119-978d-b75706e30a25",
   "metadata": {},
   "outputs": [],
   "source": []
  },
  {
   "cell_type": "code",
   "execution_count": null,
   "id": "0024e10f-f55b-4729-988e-0db7936a0d93",
   "metadata": {},
   "outputs": [],
   "source": []
  }
 ],
 "metadata": {
  "kernelspec": {
   "display_name": "Python 3 (ipykernel)",
   "language": "python",
   "name": "python3"
  },
  "language_info": {
   "codemirror_mode": {
    "name": "ipython",
    "version": 3
   },
   "file_extension": ".py",
   "mimetype": "text/x-python",
   "name": "python",
   "nbconvert_exporter": "python",
   "pygments_lexer": "ipython3",
   "version": "3.12.1"
  }
 },
 "nbformat": 4,
 "nbformat_minor": 5
}
