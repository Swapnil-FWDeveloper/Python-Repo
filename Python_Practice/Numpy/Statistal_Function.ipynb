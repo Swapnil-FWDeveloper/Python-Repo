{
 "cells": [
  {
   "cell_type": "code",
   "execution_count": 6,
   "id": "7f48dd94-2b4d-4790-a6f3-9a5eb50a8b81",
   "metadata": {},
   "outputs": [
    {
     "name": "stdout",
     "output_type": "stream",
     "text": [
      "55.0\n",
      "55.0\n",
      "10\n",
      "28.722813232690143\n"
     ]
    }
   ],
   "source": [
    "import numpy as np\n",
    "import statistics as stats\n",
    "arr=np.array([10,20,30,40,50,60,70,80,90,100])\n",
    "print(np.mean(arr)) #sum of values / number of values\n",
    "print(np.median(arr)) #central value after sorting the array\n",
    "print(stats.mode(arr)) #most reoccurring value in the array\n",
    "print(np.std(arr))\n",
    "print(np.var(arr)) #it give the square of std value as std is underroot value"
   ]
  },
  {
   "cell_type": "code",
   "execution_count": null,
   "id": "07fd3432-8278-4a4e-9de5-b16553364e16",
   "metadata": {},
   "outputs": [],
   "source": []
  }
 ],
 "metadata": {
  "kernelspec": {
   "display_name": "Python 3 (ipykernel)",
   "language": "python",
   "name": "python3"
  },
  "language_info": {
   "codemirror_mode": {
    "name": "ipython",
    "version": 3
   },
   "file_extension": ".py",
   "mimetype": "text/x-python",
   "name": "python",
   "nbconvert_exporter": "python",
   "pygments_lexer": "ipython3",
   "version": "3.12.1"
  }
 },
 "nbformat": 4,
 "nbformat_minor": 5
}
