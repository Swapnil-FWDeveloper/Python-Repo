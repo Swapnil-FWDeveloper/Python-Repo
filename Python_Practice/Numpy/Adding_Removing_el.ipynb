{
 "cells": [
  {
   "cell_type": "code",
   "execution_count": 6,
   "id": "33ef0b3f-dc14-4914-8959-265845b93b6e",
   "metadata": {},
   "outputs": [
    {
     "name": "stdout",
     "output_type": "stream",
     "text": [
      "[1 2 3]\n",
      "[1 2 3 4]\n",
      "[1 2 3 4 5 6]\n"
     ]
    }
   ],
   "source": [
    "# Adding elements in array\n",
    "import numpy as np\n",
    "\n",
    "arr = np.array([1, 2, 3])\n",
    "print(arr)\n",
    "arr = np.append(arr, 4)  # Append a single element\n",
    "print(arr)\n",
    "arr = np.append(arr, [5, 6])  # Append multiple elements\n",
    "print(arr)\n",
    "\n",
    "# element will get appended at last element"
   ]
  },
  {
   "cell_type": "code",
   "execution_count": 7,
   "id": "fd1786a2-748a-4c47-9cac-b41d46b361dc",
   "metadata": {},
   "outputs": [
    {
     "name": "stdout",
     "output_type": "stream",
     "text": [
      "[1 2 3]\n",
      "[ 1 10  2  3]\n",
      "[ 1 10 20 30  2  3]\n"
     ]
    }
   ],
   "source": [
    "# Inseting elements in btw array\n",
    "import numpy as np\n",
    "\n",
    "arr = np.array([1, 2, 3])\n",
    "print(arr)\n",
    "arr = np.insert(arr, 1, 10)  # Insert a single element at index 1\n",
    "print(arr) \n",
    "arr = np.insert(arr, 2, [20, 30])  # Insert multiple elements starting from index 2\n",
    "print(arr)"
   ]
  },
  {
   "cell_type": "code",
   "execution_count": null,
   "id": "0380611c-1d47-4989-ad88-a35f4d13e920",
   "metadata": {},
   "outputs": [],
   "source": [
    "# Removing elements\n",
    "\n",
    "import numpy as np\n",
    "\n",
    "arr = np.array([1, 2, 3, 4, 5])\n",
    "print(arr)\n",
    "arr = np.delete(arr, 2)  # Remove element at index 2\n",
    "print(arr)"
   ]
  },
  {
   "cell_type": "code",
   "execution_count": null,
   "id": "f23d4557-a899-4368-a9c8-37060cfe2ddd",
   "metadata": {},
   "outputs": [],
   "source": []
  },
  {
   "cell_type": "code",
   "execution_count": null,
   "id": "fe8721a8-f1a4-4776-a7c1-cbee90b49edc",
   "metadata": {},
   "outputs": [],
   "source": [
    "# Filtering the array\n",
    "import numpy as np\n",
    "\n",
    "arr = np.array([1, 2, 3, 4, 5])\n",
    "arr = arr[arr != 3]  # Remove element with value 3\n",
    "print(arr)"
   ]
  },
  {
   "cell_type": "code",
   "execution_count": null,
   "id": "7df12dbd-328c-4539-96a9-9aaa3278a38c",
   "metadata": {},
   "outputs": [],
   "source": [
    "# NumPy arrays have fixed sizes once created, so these operations return new arrays with the modified content rather than modifying the original array in-place. "
   ]
  },
  {
   "cell_type": "code",
   "execution_count": null,
   "id": "e4e39a72-c2a8-430e-9df3-6914ec4458f1",
   "metadata": {},
   "outputs": [],
   "source": []
  },
  {
   "cell_type": "code",
   "execution_count": null,
   "id": "2c8077ce-e977-461e-9b2a-fe6e4f15bd60",
   "metadata": {},
   "outputs": [],
   "source": []
  }
 ],
 "metadata": {
  "kernelspec": {
   "display_name": "Python 3 (ipykernel)",
   "language": "python",
   "name": "python3"
  },
  "language_info": {
   "codemirror_mode": {
    "name": "ipython",
    "version": 3
   },
   "file_extension": ".py",
   "mimetype": "text/x-python",
   "name": "python",
   "nbconvert_exporter": "python",
   "pygments_lexer": "ipython3",
   "version": "3.12.1"
  }
 },
 "nbformat": 4,
 "nbformat_minor": 5
}
