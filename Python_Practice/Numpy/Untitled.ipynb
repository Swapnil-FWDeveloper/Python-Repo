{
 "cells": [
  {
   "cell_type": "code",
   "execution_count": null,
   "id": "23b069c5-bf10-428b-86c7-7852746d71ae",
   "metadata": {},
   "outputs": [],
   "source": [
    "# Numpy it is the python library which is used for calculating matamatical operation \n",
    "# Num py means Numerical in python shortly known as Numpy\n",
    "# Array defined as collection of items that are stored at contiguous memory locations.\n",
    "# it is a container which can hold a fixed number of items, and these should of same type\n",
    "# Combination of arrays saves a time as it reduce the overall size of the code."
   ]
  },
  {
   "cell_type": "code",
   "execution_count": 2,
   "id": "cc55d22c-02c5-43f2-9c96-ae6a6aba875f",
   "metadata": {},
   "outputs": [
    {
     "name": "stdout",
     "output_type": "stream",
     "text": [
      "[20, 30, 40, 50, 60, 90]\n"
     ]
    }
   ],
   "source": [
    "import numpy as np\n",
    "\n",
    "l1=[20,30,40]\n",
    "l2=[50,60,90]\n",
    "print(l1+l2)\n",
    "# here using list values are comma (,) sepereated and it has concadinated the list\n"
   ]
  },
  {
   "cell_type": "code",
   "execution_count": 5,
   "id": "1ae0b43a-d89d-4c44-98fe-44f4eecf237e",
   "metadata": {},
   "outputs": [
    {
     "name": "stdout",
     "output_type": "stream",
     "text": [
      "[20 30 40] [10 20 30]\n",
      "[30 50 70]\n"
     ]
    }
   ],
   "source": [
    "sum1=np.array([20,30,40])\n",
    "sum2=np.array([10,20,30])\n",
    "print(sum1,sum2)\n",
    "print(sum1+sum2)\n",
    "# using array values are not been concadinated and values are not (,) seperated\n",
    "# output is 20+10=30 30+20=50 40+30=70\n",
    "# so I got the sum"
   ]
  },
  {
   "cell_type": "code",
   "execution_count": null,
   "id": "ca70f6c3-2c9f-49c8-b9bc-c7afd29512d5",
   "metadata": {},
   "outputs": [],
   "source": []
  }
 ],
 "metadata": {
  "kernelspec": {
   "display_name": "Python 3 (ipykernel)",
   "language": "python",
   "name": "python3"
  },
  "language_info": {
   "codemirror_mode": {
    "name": "ipython",
    "version": 3
   },
   "file_extension": ".py",
   "mimetype": "text/x-python",
   "name": "python",
   "nbconvert_exporter": "python",
   "pygments_lexer": "ipython3",
   "version": "3.12.1"
  }
 },
 "nbformat": 4,
 "nbformat_minor": 5
}
