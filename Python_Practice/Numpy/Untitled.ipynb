{
 "cells": [
  {
   "cell_type": "code",
   "execution_count": null,
   "id": "23b069c5-bf10-428b-86c7-7852746d71ae",
   "metadata": {},
   "outputs": [],
   "source": [
    "# Numpy it is the python library which is used for calculating matamatical operation \n",
    "# Num py means Numerical in python shortly known as Numpy\n",
    "# Array defined as collection of items that are stored at contiguous memory locations.\n",
    "# it is a container which can hold a fixed number of items, and these should of same type\n",
    "# Combination of arrays saves a time as it reduce the overall size of the code."
   ]
  },
  {
   "cell_type": "code",
   "execution_count": 2,
   "id": "cc55d22c-02c5-43f2-9c96-ae6a6aba875f",
   "metadata": {},
   "outputs": [
    {
     "name": "stdout",
     "output_type": "stream",
     "text": [
      "[20, 30, 40, 50, 60, 90]\n"
     ]
    }
   ],
   "source": [
    "import numpy as np\n",
    "\n",
    "l1=[20,30,40]\n",
    "l2=[50,60,90]\n",
    "print(l1+l2)\n",
    "# here using list values are comma (,) sepereated and it has concadinated the list\n"
   ]
  },
  {
   "cell_type": "code",
   "execution_count": 5,
   "id": "1ae0b43a-d89d-4c44-98fe-44f4eecf237e",
   "metadata": {},
   "outputs": [
    {
     "name": "stdout",
     "output_type": "stream",
     "text": [
      "[20 30 40] [10 20 30]\n",
      "[30 50 70]\n"
     ]
    }
   ],
   "source": [
    "sum1=np.array([20,30,40])\n",
    "sum2=np.array([10,20,30])\n",
    "print(sum1,sum2)\n",
    "print(sum1+sum2)\n",
    "# using array values are not been concadinated and values are not (,) seperated they are\n",
    "# output is 20+10=30 30+20=50 40+30=70\n",
    "# so I got the sum"
   ]
  },
  {
   "cell_type": "code",
   "execution_count": 15,
   "id": "5a30d0ed-784e-49ee-9610-638f286634ba",
   "metadata": {},
   "outputs": [
    {
     "name": "stdout",
     "output_type": "stream",
     "text": [
      "[2.  4.  8.9]\n"
     ]
    }
   ],
   "source": [
    "import numpy as np\n",
    "# if array is not proper then it will give error like if one element is missing and in another array extra element is present \n",
    "ex=np.array([1,2,3])\n",
    "ex2=np.array([1,2,5.9])\n",
    "print(ex+ex2)\n"
   ]
  },
  {
   "cell_type": "code",
   "execution_count": null,
   "id": "1114a638-5d13-4b28-839d-1b45daedfdd3",
   "metadata": {},
   "outputs": [],
   "source": [
    "# Question how to remove float value for other element's"
   ]
  },
  {
   "cell_type": "code",
   "execution_count": 19,
   "id": "24d7fc89-2036-4b65-859a-97b7d8987683",
   "metadata": {},
   "outputs": [
    {
     "name": "stdout",
     "output_type": "stream",
     "text": [
      "[[ 1  2  3  4  5]\n",
      " [ 6  7  8  9 10]]\n"
     ]
    }
   ],
   "source": [
    "# Multi-Dimentional array\n",
    "mul_arr=np.array([[1,2,3,4,5],[6,7,8,9,10]]) #2D Array\n",
    "# mul_arr=np.array([[1,2,3,4,5][6,7,8,9,10][11,12,13,14,15]]) #3D Array\n",
    "print(mul_arr)"
   ]
  },
  {
   "cell_type": "code",
   "execution_count": 32,
   "id": "b5820876-8748-4c0d-a234-f3f68b72dc88",
   "metadata": {},
   "outputs": [
    {
     "name": "stdout",
     "output_type": "stream",
     "text": [
      "[1 2 3]\n",
      "[3 4 5]\n"
     ]
    }
   ],
   "source": [
    "# Slicing in Array's\n",
    "mul_arr=np.array([1,2,3,4,5]) #2D Array\n",
    "print(mul_arr[0:3]) # It has sliced the elements from 0 index till 3 index\n",
    "print(mul_arr[2:]) # It has sliced the elements from 2 index till last index of an array\n"
   ]
  },
  {
   "cell_type": "code",
   "execution_count": 35,
   "id": "1f8cd028-4de7-45a9-8178-95b1bb2e301a",
   "metadata": {},
   "outputs": [
    {
     "name": "stdout",
     "output_type": "stream",
     "text": [
      "[[1 2 3]\n",
      " [6 7 8]]\n"
     ]
    }
   ],
   "source": [
    "# Slicing in Multi-Array's\n",
    "mul_arr=np.array([[1,2,3,4,5],[6,7,8,9,10]]) #2D Array\n",
    "print(mul_arr[0:2,0:3]) \n",
    "# Output [[1 2][6 7]]\n",
    "#  Have done slycing in multi-array\n"
   ]
  },
  {
   "cell_type": "code",
   "execution_count": 42,
   "id": "f56c2fd9-be8f-4f72-bba9-36f592734c98",
   "metadata": {},
   "outputs": [
    {
     "name": "stdout",
     "output_type": "stream",
     "text": [
      "[2 3]\n"
     ]
    }
   ],
   "source": [
    "# Slicing in Multi-Array's\n",
    "# Q print 2,3 in first array\n",
    "mul_arr=np.array([[1,2,3,4,5],[6,7,8,9,10]]) #2D Array\n",
    "print(mul_arr[0,1:3]) \n",
    "# Output [2 3] \n",
    "# 0 is the index of 1 array total 3 arr technically 2 so 0 is refering to the index of the perticular array\n",
    "#  Have done slycing in multi-array\n"
   ]
  },
  {
   "cell_type": "code",
   "execution_count": 3,
   "id": "11c41475-3a58-4fdf-ba2b-902d27e28992",
   "metadata": {},
   "outputs": [
    {
     "name": "stdout",
     "output_type": "stream",
     "text": [
      "(2, 5)\n"
     ]
    }
   ],
   "source": [
    "# Attributes in Array\n",
    "# np.shape\n",
    "import numpy as np\n",
    "mul_arr=np.array([[1,2,3,4,5],[6,7,8,9,10]])\n",
    "print(np.shape(mul_arr))\n",
    "\n",
    "# np.shape() give the number of rows and columns as 2 Rows and 5 column "
   ]
  },
  {
   "cell_type": "code",
   "execution_count": 4,
   "id": "6c78f469-47c5-4925-bc3e-0a21ca8a29e0",
   "metadata": {},
   "outputs": [
    {
     "name": "stdout",
     "output_type": "stream",
     "text": [
      "10\n"
     ]
    }
   ],
   "source": [
    "# np.size\n",
    "import numpy as np\n",
    "mul_arr=np.array([[1,2,3,4,5],[6,7,8,9,10]])\n",
    "print(np.size(mul_arr))\n",
    "# np.size() give the total number of element present in the array's"
   ]
  },
  {
   "cell_type": "code",
   "execution_count": 6,
   "id": "91d69d3a-b1d9-416a-ad2d-90e7b44ea547",
   "metadata": {},
   "outputs": [
    {
     "name": "stdout",
     "output_type": "stream",
     "text": [
      "2\n"
     ]
    }
   ],
   "source": [
    "# np.ndim to check dimentions \n",
    "# syntax => ndim()\n",
    "import numpy as np\n",
    "mul_arr=np.array([[1,2,3,4,5],[6,7,8,9,10]])\n",
    "print(np.ndim(mul_arr))\n",
    "# np.ndim() give the total dimension of the array's like 1D or 2D "
   ]
  },
  {
   "cell_type": "code",
   "execution_count": 9,
   "id": "a8135e14-aafe-4c4b-942d-abc598ec6cb5",
   "metadata": {},
   "outputs": [
    {
     "name": "stdout",
     "output_type": "stream",
     "text": [
      "int32\n"
     ]
    }
   ],
   "source": [
    "# np.dtype \n",
    "# syntax => dtype()\n",
    "import numpy as np\n",
    "mul_arr=np.array([[1,2,3,4,5],[6,7,8,9,10]])\n",
    "print(mul_arr.dtype)\n",
    "# mul_arr.dtype() give the type of the interger"
   ]
  },
  {
   "cell_type": "code",
   "execution_count": null,
   "id": "0baa90ab-ea4b-4e85-8946-8ffb201a2d03",
   "metadata": {},
   "outputs": [],
   "source": [
    "# Inspecting an Array\n",
    "# All about array is known as Inspecting in array\n",
    "a.shape-Array Dimensions\n",
    "len(a)-Length of array\n",
    "a.ndim-Number of array dimensions\n",
    "a.size-Number of array element\n",
    "a.dtype-Data type of array elements\n",
    "a.astype(int)-Convert on array to a diffrent type"
   ]
  },
  {
   "cell_type": "code",
   "execution_count": 9,
   "id": "c96003fa-6fc4-47e7-bbb3-9202c83ef9c3",
   "metadata": {},
   "outputs": [
    {
     "name": "stdout",
     "output_type": "stream",
     "text": [
      "(2, 5)\n",
      "2\n",
      "2\n",
      "10\n",
      "int32\n",
      "[[ 1  2  3  4  5]\n",
      " [ 6  7  8  9 10]]\n"
     ]
    }
   ],
   "source": [
    "import numpy as np\n",
    "mul_arr=np.array([[1,2,3,4,5],[6,7,8,9,10]])\n",
    "print(np.shape(mul_arr)) #rows, colums\n",
    "print(len(mul_arr)) # length of array\n",
    "print(np.ndim(mul_arr)) # dimention of array 1D 2D\n",
    "print(np.size(mul_arr)) # number of elemnts\n",
    "print(mul_arr.dtype) #type of data\n",
    "print(mul_arr.astype(int)) #change the data type"
   ]
  },
  {
   "cell_type": "code",
   "execution_count": 16,
   "id": "1eb8f844-c1fc-41d5-8b73-9eb3fc30feea",
   "metadata": {},
   "outputs": [
    {
     "ename": "SyntaxError",
     "evalue": "invalid syntax (3039145771.py, line 8)",
     "output_type": "error",
     "traceback": [
      "\u001b[1;36m  Cell \u001b[1;32mIn[16], line 8\u001b[1;36m\u001b[0m\n\u001b[1;33m    Square root: np.sqrt()\u001b[0m\n\u001b[1;37m           ^\u001b[0m\n\u001b[1;31mSyntaxError\u001b[0m\u001b[1;31m:\u001b[0m invalid syntax\n"
     ]
    }
   ],
   "source": [
    "# Mathematical Operation and Functions on Arrays\n",
    "Addition: np.add()\n",
    "Subtraction: np.subtract()\n",
    "Multiplication: np.multiply()\n",
    "Division: np.divide()\n",
    "Exponentiation: np.exp()\n",
    "Logarithm: np.log()\n",
    "Square root: np.sqrt()\n",
    "Trigonometric functions: np.sin(), np.cos(), np.tan(), etc.\n",
    "Statistical functions: np.mean(), np.median(), np.std(), etc."
   ]
  },
  {
   "cell_type": "code",
   "execution_count": 16,
   "id": "e18eba01-3672-4e91-802b-263610d365ab",
   "metadata": {},
   "outputs": [
    {
     "ename": "SyntaxError",
     "evalue": "invalid syntax (3039145771.py, line 8)",
     "output_type": "error",
     "traceback": [
      "\u001b[1;36m  Cell \u001b[1;32mIn[16], line 8\u001b[1;36m\u001b[0m\n\u001b[1;33m    Square root: np.sqrt()\u001b[0m\n\u001b[1;37m           ^\u001b[0m\n\u001b[1;31mSyntaxError\u001b[0m\u001b[1;31m:\u001b[0m invalid syntax\n"
     ]
    }
   ],
   "source": [
    "# Mathematical Operation and Functions on Arrays\n",
    "Addition: np.add()\n",
    "Subtraction: np.subtract()\n",
    "Multiplication: np.multiply()\n",
    "Division: np.divide()\n",
    "Exponentiation: np.exp()\n",
    "Logarithm: np.log()\n",
    "Square root: np.sqrt()\n",
    "Trigonometric functions: np.sin(), np.cos(), np.tan(), etc.\n",
    "Statistical functions: np.mean(), np.median(), np.std(), etc."
   ]
  },
  {
   "cell_type": "code",
   "execution_count": 16,
   "id": "9f3fcdc6-5044-445b-b0ed-797268ad7969",
   "metadata": {},
   "outputs": [
    {
     "ename": "SyntaxError",
     "evalue": "invalid syntax (3039145771.py, line 8)",
     "output_type": "error",
     "traceback": [
      "\u001b[1;36m  Cell \u001b[1;32mIn[16], line 8\u001b[1;36m\u001b[0m\n\u001b[1;33m    Square root: np.sqrt()\u001b[0m\n\u001b[1;37m           ^\u001b[0m\n\u001b[1;31mSyntaxError\u001b[0m\u001b[1;31m:\u001b[0m invalid syntax\n"
     ]
    }
   ],
   "source": [
    "# Mathematical Operation and Functions on Arrays\n",
    "Addition: np.add()\n",
    "Subtraction: np.subtract()\n",
    "Multiplication: np.multiply()\n",
    "Division: np.divide()\n",
    "Exponentiation: np.exp()\n",
    "Logarithm: np.log()\n",
    "Square root: np.sqrt()\n",
    "Trigonometric functions: np.sin(), np.cos(), np.tan(), etc.\n",
    "Statistical functions: np.mean(), np.median(), np.std(), etc."
   ]
  },
  {
   "cell_type": "code",
   "execution_count": 16,
   "id": "c45f40fd-1278-4c6b-9535-6e6911136f17",
   "metadata": {},
   "outputs": [
    {
     "ename": "SyntaxError",
     "evalue": "invalid syntax (3039145771.py, line 8)",
     "output_type": "error",
     "traceback": [
      "\u001b[1;36m  Cell \u001b[1;32mIn[16], line 8\u001b[1;36m\u001b[0m\n\u001b[1;33m    Square root: np.sqrt()\u001b[0m\n\u001b[1;37m           ^\u001b[0m\n\u001b[1;31mSyntaxError\u001b[0m\u001b[1;31m:\u001b[0m invalid syntax\n"
     ]
    }
   ],
   "source": [
    "# Mathematical Operation and Functions on Arrays\n",
    "Addition: np.add()\n",
    "Subtraction: np.subtract()\n",
    "Multiplication: np.multiply()\n",
    "Division: np.divide()\n",
    "Exponentiation: np.exp()\n",
    "Logarithm: np.log()\n",
    "Square root: np.sqrt()\n",
    "Trigonometric functions: np.sin(), np.cos(), np.tan(), etc.\n",
    "Statistical functions: np.mean(), np.median(), np.std(), etc."
   ]
  },
  {
   "cell_type": "code",
   "execution_count": 17,
   "id": "97ddd898-a150-43db-8678-416c0410293c",
   "metadata": {},
   "outputs": [
    {
     "name": "stdout",
     "output_type": "stream",
     "text": [
      "Addition: [5 7 9]\n",
      "Subtraction: [-3 -3 -3]\n",
      "Multiplication: [ 4 10 18]\n",
      "Division: [0.25 0.4  0.5 ]\n",
      "Exponentiation: [ 2.71828183  7.3890561  20.08553692]\n",
      "Logarithm: [0.         0.69314718 1.09861229]\n",
      "Square root: [1. 2. 3.]\n",
      "Trigonometry Function\n",
      "Sine: [0.84147098 0.90929743 0.14112001]\n",
      "Cosine: [ 0.54030231 -0.41614684 -0.9899925 ]\n",
      "Tangent: [ 1.55740772 -2.18503986 -0.14254654]\n"
     ]
    }
   ],
   "source": [
    "import numpy as np\n",
    "\n",
    "arr1 = np.array([1, 2, 3])\n",
    "arr2 = np.array([4, 5, 6])\n",
    "\n",
    "# Addition\n",
    "result_addition = np.add(arr1, arr2)\n",
    "\n",
    "# Subtraction\n",
    "result_subtraction = np.subtract(arr1, arr2)\n",
    "\n",
    "# Multiplication\n",
    "result_multiplication = np.multiply(arr1, arr2)\n",
    "\n",
    "# Division\n",
    "result_division = np.divide(arr1, arr2)\n",
    "\n",
    "# Exponentiation\n",
    "result_exp = np.exp(arr1)\n",
    "\n",
    "# Logarithm \n",
    "result_log = np.log(arr1)\n",
    "\n",
    "# Square root\n",
    "arr = np.array([1, 4, 9])\n",
    "result_sqrt = np.sqrt(arr)\n",
    "\n",
    "# Trigonometry\n",
    "result_sin = np.sin(arr1)\n",
    "result_cos = np.cos(arr1)\n",
    "result_tan = np.tan(arr1)\n",
    "\n",
    "print(\"Addition:\", result_addition)\n",
    "print(\"Subtraction:\", result_subtraction)\n",
    "print(\"Multiplication:\", result_multiplication)\n",
    "print(\"Division:\", result_division)\n",
    "print(\"Exponentiation:\", result_exp)\n",
    "print(\"Logarithm:\", result_log)\n",
    "\n",
    "\n",
    "print(\"Square root:\", result_sqrt)\n",
    "\n",
    "print(\"Trigonometry Function\")\n",
    "print(\"Sine:\", result_sin)\n",
    "print(\"Cosine:\", result_cos)\n",
    "print(\"Tangent:\", result_tan)\n",
    "\n"
   ]
  },
  {
   "cell_type": "code",
   "execution_count": 17,
   "id": "f13cbc82-61a9-436e-a81a-30cbd9ca398e",
   "metadata": {},
   "outputs": [
    {
     "name": "stdout",
     "output_type": "stream",
     "text": [
      "Addition: [5 7 9]\n",
      "Subtraction: [-3 -3 -3]\n",
      "Multiplication: [ 4 10 18]\n",
      "Division: [0.25 0.4  0.5 ]\n",
      "Exponentiation: [ 2.71828183  7.3890561  20.08553692]\n",
      "Logarithm: [0.         0.69314718 1.09861229]\n",
      "Square root: [1. 2. 3.]\n",
      "Trigonometry Function\n",
      "Sine: [0.84147098 0.90929743 0.14112001]\n",
      "Cosine: [ 0.54030231 -0.41614684 -0.9899925 ]\n",
      "Tangent: [ 1.55740772 -2.18503986 -0.14254654]\n"
     ]
    }
   ],
   "source": [
    "import numpy as np\n",
    "\n",
    "arr1 = np.array([1, 2, 3])\n",
    "arr2 = np.array([4, 5, 6])\n",
    "\n",
    "# Addition\n",
    "result_addition = np.add(arr1, arr2)\n",
    "\n",
    "# Subtraction\n",
    "result_subtraction = np.subtract(arr1, arr2)\n",
    "\n",
    "# Multiplication\n",
    "result_multiplication = np.multiply(arr1, arr2)\n",
    "\n",
    "# Division\n",
    "result_division = np.divide(arr1, arr2)\n",
    "\n",
    "# Exponentiation\n",
    "result_exp = np.exp(arr1)\n",
    "\n",
    "# Logarithm \n",
    "result_log = np.log(arr1)\n",
    "\n",
    "# Square root\n",
    "arr = np.array([1, 4, 9])\n",
    "result_sqrt = np.sqrt(arr)\n",
    "\n",
    "# Trigonometry\n",
    "result_sin = np.sin(arr1)\n",
    "result_cos = np.cos(arr1)\n",
    "result_tan = np.tan(arr1)\n",
    "\n",
    "print(\"Addition:\", result_addition)\n",
    "print(\"Subtraction:\", result_subtraction)\n",
    "print(\"Multiplication:\", result_multiplication)\n",
    "print(\"Division:\", result_division)\n",
    "print(\"Exponentiation:\", result_exp)\n",
    "print(\"Logarithm:\", result_log)\n",
    "\n",
    "\n",
    "print(\"Square root:\", result_sqrt)\n",
    "\n",
    "print(\"Trigonometry Function\")\n",
    "print(\"Sine:\", result_sin)\n",
    "print(\"Cosine:\", result_cos)\n",
    "print(\"Tangent:\", result_tan)\n",
    "\n"
   ]
  },
  {
   "cell_type": "code",
   "execution_count": 17,
   "id": "8c4cffa3-aff4-4548-9f46-71e6f079b009",
   "metadata": {},
   "outputs": [
    {
     "name": "stdout",
     "output_type": "stream",
     "text": [
      "Addition: [5 7 9]\n",
      "Subtraction: [-3 -3 -3]\n",
      "Multiplication: [ 4 10 18]\n",
      "Division: [0.25 0.4  0.5 ]\n",
      "Exponentiation: [ 2.71828183  7.3890561  20.08553692]\n",
      "Logarithm: [0.         0.69314718 1.09861229]\n",
      "Square root: [1. 2. 3.]\n",
      "Trigonometry Function\n",
      "Sine: [0.84147098 0.90929743 0.14112001]\n",
      "Cosine: [ 0.54030231 -0.41614684 -0.9899925 ]\n",
      "Tangent: [ 1.55740772 -2.18503986 -0.14254654]\n"
     ]
    }
   ],
   "source": [
    "import numpy as np\n",
    "\n",
    "arr1 = np.array([1, 2, 3])\n",
    "arr2 = np.array([4, 5, 6])\n",
    "\n",
    "# Addition\n",
    "result_addition = np.add(arr1, arr2)\n",
    "\n",
    "# Subtraction\n",
    "result_subtraction = np.subtract(arr1, arr2)\n",
    "\n",
    "# Multiplication\n",
    "result_multiplication = np.multiply(arr1, arr2)\n",
    "\n",
    "# Division\n",
    "result_division = np.divide(arr1, arr2)\n",
    "\n",
    "# Exponentiation\n",
    "result_exp = np.exp(arr1)\n",
    "\n",
    "# Logarithm \n",
    "result_log = np.log(arr1)\n",
    "\n",
    "# Square root\n",
    "arr = np.array([1, 4, 9])\n",
    "result_sqrt = np.sqrt(arr)\n",
    "\n",
    "# Trigonometry\n",
    "result_sin = np.sin(arr1)\n",
    "result_cos = np.cos(arr1)\n",
    "result_tan = np.tan(arr1)\n",
    "\n",
    "print(\"Addition:\", result_addition)\n",
    "print(\"Subtraction:\", result_subtraction)\n",
    "print(\"Multiplication:\", result_multiplication)\n",
    "print(\"Division:\", result_division)\n",
    "print(\"Exponentiation:\", result_exp)\n",
    "print(\"Logarithm:\", result_log)\n",
    "\n",
    "\n",
    "print(\"Square root:\", result_sqrt)\n",
    "\n",
    "print(\"Trigonometry Function\")\n",
    "print(\"Sine:\", result_sin)\n",
    "print(\"Cosine:\", result_cos)\n",
    "print(\"Tangent:\", result_tan)\n",
    "\n"
   ]
  },
  {
   "cell_type": "code",
   "execution_count": 17,
   "id": "45008160-a262-4054-a695-f757559e9cea",
   "metadata": {},
   "outputs": [
    {
     "name": "stdout",
     "output_type": "stream",
     "text": [
      "Addition: [5 7 9]\n",
      "Subtraction: [-3 -3 -3]\n",
      "Multiplication: [ 4 10 18]\n",
      "Division: [0.25 0.4  0.5 ]\n",
      "Exponentiation: [ 2.71828183  7.3890561  20.08553692]\n",
      "Logarithm: [0.         0.69314718 1.09861229]\n",
      "Square root: [1. 2. 3.]\n",
      "Trigonometry Function\n",
      "Sine: [0.84147098 0.90929743 0.14112001]\n",
      "Cosine: [ 0.54030231 -0.41614684 -0.9899925 ]\n",
      "Tangent: [ 1.55740772 -2.18503986 -0.14254654]\n"
     ]
    }
   ],
   "source": [
    "import numpy as np\n",
    "\n",
    "arr1 = np.array([1, 2, 3])\n",
    "arr2 = np.array([4, 5, 6])\n",
    "\n",
    "# Addition\n",
    "result_addition = np.add(arr1, arr2)\n",
    "\n",
    "# Subtraction\n",
    "result_subtraction = np.subtract(arr1, arr2)\n",
    "\n",
    "# Multiplication\n",
    "result_multiplication = np.multiply(arr1, arr2)\n",
    "\n",
    "# Division\n",
    "result_division = np.divide(arr1, arr2)\n",
    "\n",
    "# Exponentiation\n",
    "result_exp = np.exp(arr1)\n",
    "\n",
    "# Logarithm \n",
    "result_log = np.log(arr1)\n",
    "\n",
    "# Square root\n",
    "arr = np.array([1, 4, 9])\n",
    "result_sqrt = np.sqrt(arr)\n",
    "\n",
    "# Trigonometry\n",
    "result_sin = np.sin(arr1)\n",
    "result_cos = np.cos(arr1)\n",
    "result_tan = np.tan(arr1)\n",
    "\n",
    "print(\"Addition:\", result_addition)\n",
    "print(\"Subtraction:\", result_subtraction)\n",
    "print(\"Multiplication:\", result_multiplication)\n",
    "print(\"Division:\", result_division)\n",
    "print(\"Exponentiation:\", result_exp)\n",
    "print(\"Logarithm:\", result_log)\n",
    "\n",
    "\n",
    "print(\"Square root:\", result_sqrt)\n",
    "\n",
    "print(\"Trigonometry Function\")\n",
    "print(\"Sine:\", result_sin)\n",
    "print(\"Cosine:\", result_cos)\n",
    "print(\"Tangent:\", result_tan)\n",
    "\n"
   ]
  },
  {
   "cell_type": "code",
   "execution_count": null,
   "id": "30b9762d-f12a-4749-8f9e-e16f32218317",
   "metadata": {},
   "outputs": [],
   "source": []
  },
  {
   "cell_type": "code",
   "execution_count": null,
   "id": "ce75b7ba-030d-49f1-96ca-6f6dfc58ceb8",
   "metadata": {},
   "outputs": [],
   "source": []
  }
 ],
 "metadata": {
  "kernelspec": {
   "display_name": "Python 3 (ipykernel)",
   "language": "python",
   "name": "python3"
  },
  "language_info": {
   "codemirror_mode": {
    "name": "ipython",
    "version": 3
   },
   "file_extension": ".py",
   "mimetype": "text/x-python",
   "name": "python",
   "nbconvert_exporter": "python",
   "pygments_lexer": "ipython3",
   "version": "3.12.1"
  }
 },
 "nbformat": 4,
 "nbformat_minor": 5
}
