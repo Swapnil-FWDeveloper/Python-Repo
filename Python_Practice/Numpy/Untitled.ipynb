{
 "cells": [
  {
   "cell_type": "code",
   "execution_count": null,
   "id": "23b069c5-bf10-428b-86c7-7852746d71ae",
   "metadata": {},
   "outputs": [],
   "source": [
    "# Numpy it is the python library which is used for calculating matamatical operation \n",
    "# Num py means Numerical in python shortly known as Numpy\n",
    "# Array defined as collection of items that are stored at contiguous memory locations.\n",
    "# it is a container which can hold a fixed number of items, and these should of same type\n",
    "# Combination of arrays saves a time as it reduce the overall size of the code."
   ]
  },
  {
   "cell_type": "code",
   "execution_count": 2,
   "id": "cc55d22c-02c5-43f2-9c96-ae6a6aba875f",
   "metadata": {},
   "outputs": [
    {
     "name": "stdout",
     "output_type": "stream",
     "text": [
      "[20, 30, 40, 50, 60, 90]\n"
     ]
    }
   ],
   "source": [
    "import numpy as np\n",
    "\n",
    "l1=[20,30,40]\n",
    "l2=[50,60,90]\n",
    "print(l1+l2)\n",
    "# here using list values are comma (,) sepereated and it has concadinated the list\n"
   ]
  },
  {
   "cell_type": "code",
   "execution_count": 5,
   "id": "1ae0b43a-d89d-4c44-98fe-44f4eecf237e",
   "metadata": {},
   "outputs": [
    {
     "name": "stdout",
     "output_type": "stream",
     "text": [
      "[20 30 40] [10 20 30]\n",
      "[30 50 70]\n"
     ]
    }
   ],
   "source": [
    "sum1=np.array([20,30,40])\n",
    "sum2=np.array([10,20,30])\n",
    "print(sum1,sum2)\n",
    "print(sum1+sum2)\n",
    "# using array values are not been concadinated and values are not (,) seperated they are\n",
    "# output is 20+10=30 30+20=50 40+30=70\n",
    "# so I got the sum"
   ]
  },
  {
   "cell_type": "code",
   "execution_count": 15,
   "id": "5a30d0ed-784e-49ee-9610-638f286634ba",
   "metadata": {},
   "outputs": [
    {
     "name": "stdout",
     "output_type": "stream",
     "text": [
      "[2.  4.  8.9]\n"
     ]
    }
   ],
   "source": [
    "import numpy as np\n",
    "# if array is not proper then it will give error like if one element is missing and in another array extra element is present \n",
    "ex=np.array([1,2,3])\n",
    "ex2=np.array([1,2,5.9])\n",
    "print(ex+ex2)\n"
   ]
  },
  {
   "cell_type": "code",
   "execution_count": null,
   "id": "1114a638-5d13-4b28-839d-1b45daedfdd3",
   "metadata": {},
   "outputs": [],
   "source": [
    "# Question how to remove float value for other element's"
   ]
  },
  {
   "cell_type": "code",
   "execution_count": 19,
   "id": "24d7fc89-2036-4b65-859a-97b7d8987683",
   "metadata": {},
   "outputs": [
    {
     "name": "stdout",
     "output_type": "stream",
     "text": [
      "[[ 1  2  3  4  5]\n",
      " [ 6  7  8  9 10]]\n"
     ]
    }
   ],
   "source": [
    "# Multi-Dimentional array\n",
    "mul_arr=np.array([[1,2,3,4,5],[6,7,8,9,10]]) #2D Array\n",
    "# mul_arr=np.array([[1,2,3,4,5][6,7,8,9,10][11,12,13,14,15]]) #3D Array\n",
    "print(mul_arr)"
   ]
  },
  {
   "cell_type": "code",
   "execution_count": 32,
   "id": "b5820876-8748-4c0d-a234-f3f68b72dc88",
   "metadata": {},
   "outputs": [
    {
     "name": "stdout",
     "output_type": "stream",
     "text": [
      "[1 2 3]\n",
      "[3 4 5]\n"
     ]
    }
   ],
   "source": [
    "# Slicing in Array's\n",
    "mul_arr=np.array([1,2,3,4,5]) #2D Array\n",
    "print(mul_arr[0:3]) # It has sliced the elements from 0 index till 3 index\n",
    "print(mul_arr[2:]) # It has sliced the elements from 2 index till last index of an array\n"
   ]
  },
  {
   "cell_type": "code",
   "execution_count": 35,
   "id": "1f8cd028-4de7-45a9-8178-95b1bb2e301a",
   "metadata": {},
   "outputs": [
    {
     "name": "stdout",
     "output_type": "stream",
     "text": [
      "[[1 2 3]\n",
      " [6 7 8]]\n"
     ]
    }
   ],
   "source": [
    "# Slicing in Multi-Array's\n",
    "mul_arr=np.array([[1,2,3,4,5],[6,7,8,9,10]]) #2D Array\n",
    "print(mul_arr[0:2,0:3]) \n",
    "# Output [[1 2][6 7]]\n",
    "#  Have done slycing in multi-array\n"
   ]
  },
  {
   "cell_type": "code",
   "execution_count": 42,
   "id": "f56c2fd9-be8f-4f72-bba9-36f592734c98",
   "metadata": {},
   "outputs": [
    {
     "name": "stdout",
     "output_type": "stream",
     "text": [
      "[2 3]\n"
     ]
    }
   ],
   "source": [
    "# Slicing in Multi-Array's\n",
    "# Q print 2,3 in first array\n",
    "mul_arr=np.array([[1,2,3,4,5],[6,7,8,9,10]]) #2D Array\n",
    "print(mul_arr[0,1:3]) \n",
    "# Output [2 3] \n",
    "# 0 is the index of 1 array total 3 arr technically 2 so 0 is refering to the index of the perticular array\n",
    "#  Have done slycing in multi-array\n"
   ]
  },
  {
   "cell_type": "code",
   "execution_count": null,
   "id": "11c41475-3a58-4fdf-ba2b-902d27e28992",
   "metadata": {},
   "outputs": [],
   "source": []
  }
 ],
 "metadata": {
  "kernelspec": {
   "display_name": "Python 3 (ipykernel)",
   "language": "python",
   "name": "python3"
  },
  "language_info": {
   "codemirror_mode": {
    "name": "ipython",
    "version": 3
   },
   "file_extension": ".py",
   "mimetype": "text/x-python",
   "name": "python",
   "nbconvert_exporter": "python",
   "pygments_lexer": "ipython3",
   "version": "3.12.1"
  }
 },
 "nbformat": 4,
 "nbformat_minor": 5
}
