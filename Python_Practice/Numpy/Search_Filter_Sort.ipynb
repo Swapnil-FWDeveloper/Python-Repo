{
 "cells": [
  {
   "cell_type": "code",
   "execution_count": null,
   "id": "ff05bcad-b1b5-413f-9a75-2ff74f3e4a1c",
   "metadata": {},
   "outputs": [],
   "source": [
    "# Numpy- Sort,Filter and Search"
   ]
  },
  {
   "cell_type": "code",
   "execution_count": 6,
   "id": "5b8d473c-4a09-41ae-b6a2-4d95bdde1790",
   "metadata": {},
   "outputs": [
    {
     "name": "stdout",
     "output_type": "stream",
     "text": [
      "Sorted array: [1 2 3 4 5]\n",
      "Filtered array: [3 5 4]\n",
      "Indices of value 3: [0]\n",
      "Index where 3 should be inserted to maintain order: 2\n"
     ]
    }
   ],
   "source": [
    "import numpy as np\n",
    "\n",
    "# Creating an array\n",
    "arr = np.array([3, 1, 5, 2, 4])\n",
    "\n",
    "# Sorting\n",
    "sorted_arr = np.sort(arr)\n",
    "print(\"Sorted array:\", sorted_arr)\n",
    "\n",
    "# Filtering\n",
    "filtered_arr = arr[arr > 2]\n",
    "print(\"Filtered array:\", filtered_arr)\n",
    "\n",
    "# Searching\n",
    "indices = np.where(arr == 3)\n",
    "# print(\"Indices of value 3:\", indices[0])\n",
    "print(\"Indices of value 3:\", indices[0])\n",
    "# here we will get the index where the value is present\n",
    "\n",
    "# Searchsorted\n",
    "sorted_indices = np.searchsorted(sorted_arr,3)\n",
    "print(\"Index where 3 should be inserted to maintain order:\", sorted_indices)\n",
    "\n",
    "# Rules\n",
    "# For search sorted value should be sorted \n",
    "# use np.setchsorted(var_name, value)\n",
    "# so here we got the index of 3 as 2 because value is been sorted and then we found the index\n"
   ]
  },
  {
   "cell_type": "code",
   "execution_count": null,
   "id": "0d56515c-5bf8-4757-812d-aa2fcf7f45de",
   "metadata": {},
   "outputs": [],
   "source": []
  },
  {
   "cell_type": "code",
   "execution_count": null,
   "id": "e3747d47-ccfe-457d-8529-99a291acadb2",
   "metadata": {},
   "outputs": [],
   "source": []
  }
 ],
 "metadata": {
  "kernelspec": {
   "display_name": "Python 3 (ipykernel)",
   "language": "python",
   "name": "python3"
  },
  "language_info": {
   "codemirror_mode": {
    "name": "ipython",
    "version": 3
   },
   "file_extension": ".py",
   "mimetype": "text/x-python",
   "name": "python",
   "nbconvert_exporter": "python",
   "pygments_lexer": "ipython3",
   "version": "3.12.1"
  }
 },
 "nbformat": 4,
 "nbformat_minor": 5
}
