{
 "cells": [
  {
   "cell_type": "code",
   "execution_count": 1,
   "id": "c4a45b24-64a1-4101-afd2-de0c184ddfad",
   "metadata": {},
   "outputs": [
    {
     "ename": "SyntaxError",
     "evalue": "invalid syntax (218537827.py, line 1)",
     "output_type": "error",
     "traceback": [
      "\u001b[1;36m  Cell \u001b[1;32mIn[1], line 1\u001b[1;36m\u001b[0m\n\u001b[1;33m    Mathematical Operation\u001b[0m\n\u001b[1;37m                 ^\u001b[0m\n\u001b[1;31mSyntaxError\u001b[0m\u001b[1;31m:\u001b[0m invalid syntax\n"
     ]
    }
   ],
   "source": [
    "Mathematical Operation\n",
    "Addition: np.add()\n",
    "Subtraction: np.subtract()\n",
    "Multiplication: np.multiply()\n",
    "Division: np.divide()\n",
    "Exponentiation: np.exp()\n",
    "Logarithm: np.log()\n",
    "Square root: np.sqrt()\n",
    "Trigonometric functions: np.sin(), np.cos(), np.tan(), etc.\n",
    "Statistical functions: np.mean(), np.median(), np.std(), etc."
   ]
  },
  {
   "cell_type": "code",
   "execution_count": 2,
   "id": "9cf6fc0b-d617-4684-a0ba-1478e5711695",
   "metadata": {},
   "outputs": [
    {
     "name": "stdout",
     "output_type": "stream",
     "text": [
      "Addition: [5 7 9]\n",
      "Subtraction: [-3 -3 -3]\n",
      "Multiplication: [ 4 10 18]\n",
      "Division: [0.25 0.4  0.5 ]\n",
      "Exponentiation: [ 2.71828183  7.3890561  20.08553692]\n",
      "Logarithm: [0.         0.69314718 1.09861229]\n",
      "Square root: [1. 2. 3.]\n",
      "Trigonometry Function\n",
      "Sine: [0.84147098 0.90929743 0.14112001]\n",
      "Cosine: [ 0.54030231 -0.41614684 -0.9899925 ]\n",
      "Tangent: [ 1.55740772 -2.18503986 -0.14254654]\n"
     ]
    }
   ],
   "source": [
    "import numpy as np\n",
    "\n",
    "arr1 = np.array([1, 2, 3])\n",
    "arr2 = np.array([4, 5, 6])\n",
    "\n",
    "# Addition\n",
    "result_addition = np.add(arr1, arr2)\n",
    "\n",
    "# Subtraction\n",
    "result_subtraction = np.subtract(arr1, arr2)\n",
    "\n",
    "# Multiplication\n",
    "result_multiplication = np.multiply(arr1, arr2)\n",
    "\n",
    "# Division\n",
    "result_division = np.divide(arr1, arr2)\n",
    "\n",
    "# Exponentiation\n",
    "result_exp = np.exp(arr1)\n",
    "\n",
    "# Logarithm \n",
    "result_log = np.log(arr1)\n",
    "\n",
    "# Square root\n",
    "arr = np.array([1, 4, 9])\n",
    "result_sqrt = np.sqrt(arr)\n",
    "\n",
    "# Trigonometry\n",
    "result_sin = np.sin(arr1)\n",
    "result_cos = np.cos(arr1)\n",
    "result_tan = np.tan(arr1)\n",
    "\n",
    "print(\"Addition:\", result_addition)\n",
    "print(\"Subtraction:\", result_subtraction)\n",
    "print(\"Multiplication:\", result_multiplication)\n",
    "print(\"Division:\", result_division)\n",
    "print(\"Exponentiation:\", result_exp)\n",
    "print(\"Logarithm:\", result_log)\n",
    "\n",
    "\n",
    "print(\"Square root:\", result_sqrt)\n",
    "\n",
    "print(\"Trigonometry Function\")\n",
    "print(\"Sine:\", result_sin)\n",
    "print(\"Cosine:\", result_cos)\n",
    "print(\"Tangent:\", result_tan)\n"
   ]
  }
 ],
 "metadata": {
  "kernelspec": {
   "display_name": "Python 3 (ipykernel)",
   "language": "python",
   "name": "python3"
  },
  "language_info": {
   "codemirror_mode": {
    "name": "ipython",
    "version": 3
   },
   "file_extension": ".py",
   "mimetype": "text/x-python",
   "name": "python",
   "nbconvert_exporter": "python",
   "pygments_lexer": "ipython3",
   "version": "3.12.1"
  }
 },
 "nbformat": 4,
 "nbformat_minor": 5
}
