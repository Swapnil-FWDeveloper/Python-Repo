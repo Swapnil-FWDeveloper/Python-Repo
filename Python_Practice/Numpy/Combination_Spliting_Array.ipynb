{
 "cells": [
  {
   "cell_type": "code",
   "execution_count": null,
   "id": "9c8f8e54-1c0d-4649-ad1c-dc372b97235d",
   "metadata": {},
   "outputs": [],
   "source": [
    "# Concatenate\n",
    "meaning Concatinting the Array's"
   ]
  },
  {
   "cell_type": "code",
   "execution_count": 2,
   "id": "81f96698-b836-463b-abcf-d4ebd4d71943",
   "metadata": {},
   "outputs": [
    {
     "name": "stdout",
     "output_type": "stream",
     "text": [
      "[10 20 30 40 50 60]\n"
     ]
    }
   ],
   "source": [
    "import numpy as np\n",
    "arr1=np.array([10,20,30])\n",
    "arr2=np.array([40,50,60])\n",
    "print(np.concatenate([arr1,arr2]))"
   ]
  },
  {
   "cell_type": "code",
   "execution_count": null,
   "id": "d99e2084-33af-4698-90e1-426b317509a8",
   "metadata": {},
   "outputs": [],
   "source": []
  },
  {
   "cell_type": "code",
   "execution_count": null,
   "id": "fffda7b4-3813-446f-9e29-ef6665a07429",
   "metadata": {},
   "outputs": [],
   "source": []
  },
  {
   "cell_type": "code",
   "execution_count": null,
   "id": "295f8f19-9ace-48b6-afc5-46e26a9e31f6",
   "metadata": {},
   "outputs": [],
   "source": []
  }
 ],
 "metadata": {
  "kernelspec": {
   "display_name": "Python 3 (ipykernel)",
   "language": "python",
   "name": "python3"
  },
  "language_info": {
   "codemirror_mode": {
    "name": "ipython",
    "version": 3
   },
   "file_extension": ".py",
   "mimetype": "text/x-python",
   "name": "python",
   "nbconvert_exporter": "python",
   "pygments_lexer": "ipython3",
   "version": "3.12.1"
  }
 },
 "nbformat": 4,
 "nbformat_minor": 5
}
