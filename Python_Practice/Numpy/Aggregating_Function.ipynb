{
 "cells": [
  {
   "cell_type": "code",
   "execution_count": null,
   "id": "a08cb4e8-0d71-46f3-9c48-c0ea212af8e7",
   "metadata": {},
   "outputs": [],
   "source": [
    "# Summation:\n",
    "\n",
    "# numpy.sum(): Computes the sum of array elements over a specified axis.\n",
    "# numpy.cumsum(): Computes the cumulative sum of array elements over a specified axis.\n",
    "\n",
    "# Product:\n",
    "\n",
    "# numpy.prod(): Computes the product of array elements over a specified axis.\n",
    "# numpy.cumprod(): Computes the cumulative product of array elements over a specified axis.\n",
    "\n",
    "# Statistical Functions:\n",
    "\n",
    "# numpy.mean(): Computes the arithmetic mean along the specified axis.\n",
    "# numpy.median(): Computes the median along the specified axis.\n",
    "# numpy.std(): Computes the standard deviation along the specified axis.\n",
    "# numpy.var(): Computes the variance along the specified axis.\n",
    "# numpy.min(): Computes the minimum value along the specified axis.\n",
    "# numpy.max(): Computes the maximum value along the specified axis.\n",
    "# numpy.argmin(): Returns the indices of the minimum values along the specified axis.\n",
    "# numpy.argmax(): Returns the indices of the maximum values along the specified axis.\n",
    "# Other Functions:\n",
    "\n",
    "# numpy.any(): Tests whether any array element along a given axis evaluates to True.\n",
    "# numpy.all(): Tests whether all array elements along a given axis evaluate to True."
   ]
  },
  {
   "cell_type": "code",
   "execution_count": 8,
   "id": "fa9fb08d-8dad-4c49-b87e-bc3683f75810",
   "metadata": {},
   "outputs": [
    {
     "name": "stdout",
     "output_type": "stream",
     "text": [
      "Sum of all elements: 6\n",
      "Cumulative sum along columns: [1 3 6]\n",
      "Any non-zero elements: True\n",
      "All non-zero elements: True\n"
     ]
    }
   ],
   "source": [
    "import numpy as np\n",
    "\n",
    "# Creating an array\n",
    "arr = np.array([[1, 2, 3], [4, 5, 6]])\n",
    "\n",
    "# Summation\n",
    "print(\"Sum of all elements:\", np.sum(arr))\n",
    "# print(\"Cumulative sum along columns:\", np.cumsum(arr))\n",
    "print(\"Cumulative sum along columns:\", np.cumsum(arr,axis=0))\n",
    "\n",
    "# Statistical functions\n",
    "print(\"Mean along columns:\", np.mean(arr, axis=0))\n",
    "print(\"Median along rows:\", np.median(arr, axis=1))\n",
    "print(\"Standard deviation:\", np.std(arr))\n",
    "\n",
    "# Other functions\n",
    "print(\"Any non-zero elements:\", np.any(arr))\n",
    "print(\"All non-zero elements:\", np.all(arr))\n"
   ]
  },
  {
   "cell_type": "code",
   "execution_count": null,
   "id": "156c546b-b5d9-42cf-890f-c64f6c19b605",
   "metadata": {},
   "outputs": [],
   "source": []
  }
 ],
 "metadata": {
  "kernelspec": {
   "display_name": "Python 3 (ipykernel)",
   "language": "python",
   "name": "python3"
  },
  "language_info": {
   "codemirror_mode": {
    "name": "ipython",
    "version": 3
   },
   "file_extension": ".py",
   "mimetype": "text/x-python",
   "name": "python",
   "nbconvert_exporter": "python",
   "pygments_lexer": "ipython3",
   "version": "3.12.1"
  }
 },
 "nbformat": 4,
 "nbformat_minor": 5
}
