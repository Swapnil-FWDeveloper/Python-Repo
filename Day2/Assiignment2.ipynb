{
 "cells": [
  {
   "cell_type": "code",
   "execution_count": 3,
   "id": "5806059d-8080-4748-b89d-c2041df97b36",
   "metadata": {},
   "outputs": [
    {
     "name": "stdout",
     "output_type": "stream",
     "text": [
      "num2 is greater than num1\n"
     ]
    }
   ],
   "source": [
    "#Number Comparison\n",
    "\n",
    "num1=10\n",
    "num2 = 11\n",
    "if(num1 > num2) :\n",
    "    print(\"num1 is greater than num2\")\n",
    "elif(num2 > num1) :\n",
    "    print(\"num2 is greater than num1\")\n",
    "    "
   ]
  },
  {
   "cell_type": "code",
   "execution_count": 10,
   "id": "a26185bd-d74f-4d2c-8fb6-8cc7151eea40",
   "metadata": {},
   "outputs": [
    {
     "name": "stdin",
     "output_type": "stream",
     "text": [
      "Enter the number :  17\n"
     ]
    },
    {
     "name": "stdout",
     "output_type": "stream",
     "text": [
      "17 is a Odd number\n"
     ]
    }
   ],
   "source": [
    "#Even or Odd Number\n",
    "num=int(input(\"Enter the number : \"))\n",
    "\n",
    "if(num%2==0) :\n",
    "    print(num , \"is a Even number\")\n",
    "else:\n",
    "    print(num , \"is a Odd number\")\n"
   ]
  },
  {
   "cell_type": "code",
   "execution_count": 14,
   "id": "e008fcd5-51cc-4751-a267-6be6db76cd2b",
   "metadata": {},
   "outputs": [
    {
     "name": "stdin",
     "output_type": "stream",
     "text": [
      "Enter the number : 5\n"
     ]
    },
    {
     "name": "stdout",
     "output_type": "stream",
     "text": [
      "5 is Positive number\n"
     ]
    }
   ],
   "source": [
    "#Positive or Negative Number\n",
    "num=int(input(\"Enter the number :\"))\n",
    "if(num > 0) :\n",
    "    print(num , \"is Positive number\")\n",
    "elif(num < 0) :\n",
    "    print(num , \"is a Negative number\")\n",
    "elif(num==0):\n",
    "    print(num ,\"is a absence of quantity\")"
   ]
  },
  {
   "cell_type": "code",
   "execution_count": 18,
   "id": "a0183002-bf9a-4cbb-8490-7bd2041ec20f",
   "metadata": {},
   "outputs": [
    {
     "name": "stdin",
     "output_type": "stream",
     "text": [
      "Enter the Password asdfdas\n"
     ]
    },
    {
     "name": "stdout",
     "output_type": "stream",
     "text": [
      "Access denied\n"
     ]
    }
   ],
   "source": [
    "#password Checker\n",
    "val_pass=\"python123\"\n",
    "checkPass=str(input(\"Enter the Password\"))\n",
    "if(checkPass == val_pass) :\n",
    "   print(\"Access granted\")\n",
    "else :\n",
    "    print(\"Access denied\")"
   ]
  },
  {
   "cell_type": "code",
   "execution_count": 21,
   "id": "f4654ab0-b0c1-4c2c-a8ef-f4c36f2526db",
   "metadata": {},
   "outputs": [
    {
     "name": "stdin",
     "output_type": "stream",
     "text": [
      "Enter the number :  15\n"
     ]
    },
    {
     "name": "stdout",
     "output_type": "stream",
     "text": [
      "You are an not adult\n"
     ]
    }
   ],
   "source": [
    "#Age Checker\n",
    "Age=int(input(\"Enter the number : \"))\n",
    "if(Age >=18) :\n",
    "    print(\"You are an adult\")\n",
    "else:\n",
    "    print(\"You are an not adult\")"
   ]
  },
  {
   "cell_type": "code",
   "execution_count": null,
   "id": "2b666e6f-3ee9-460c-b9cb-7601a771deba",
   "metadata": {},
   "outputs": [],
   "source": [
    "#Voting Eligibility\n",
    "\n",
    "Age=int(input(\"Enter the number : \"))\n",
    "if(Age > 18) :\n",
    "    print(\"You are eligible to vote\")\n",
    "else:\n",
    "    print(\"You are not eligible to vote\")"
   ]
  },
  {
   "cell_type": "code",
   "execution_count": 2,
   "id": "cec2f084-46c3-4a39-8b63-ab1919685c00",
   "metadata": {},
   "outputs": [
    {
     "name": "stdin",
     "output_type": "stream",
     "text": [
      "Enter the Temperature :  60\n"
     ]
    },
    {
     "name": "stdout",
     "output_type": "stream",
     "text": [
      "It's a hot day.\n"
     ]
    }
   ],
   "source": [
    "#Temperature Conversion\n",
    "\n",
    "Temp=int(input(\"Enter the Temperature : \"))\n",
    "if(Temp > 30) :\n",
    "    print(\"It's a hot day.\")\n",
    "\n",
    "else :\n",
    "    print(\"It's a not hot day.\")"
   ]
  },
  {
   "cell_type": "code",
   "execution_count": 6,
   "id": "a747a3ef-1923-4a3e-9de1-fe37c4667974",
   "metadata": {},
   "outputs": [
    {
     "name": "stdin",
     "output_type": "stream",
     "text": [
      "Enter the number to check type of number :  0\n"
     ]
    },
    {
     "name": "stdout",
     "output_type": "stream",
     "text": [
      "0 is a 0 number\n"
     ]
    }
   ],
   "source": [
    "# Positive or Negative Number (Improved)\n",
    "num=int(input(\"Enter the number to check type of number : \"))\n",
    "if(num < 0) :\n",
    "    print(num , \"is negative number\")\n",
    "\n",
    "elif(num > 0) :\n",
    "    print(num , \"is a positive numbre\")\n",
    "\n",
    "else :\n",
    "    print(num , \"is a 0 number\")"
   ]
  },
  {
   "cell_type": "code",
   "execution_count": 15,
   "id": "16a3d434-7f2f-4419-b973-296978346010",
   "metadata": {},
   "outputs": [
    {
     "name": "stdin",
     "output_type": "stream",
     "text": [
      "Enter the Score here : 55\n"
     ]
    },
    {
     "name": "stdout",
     "output_type": "stream",
     "text": [
      "F\n"
     ]
    }
   ],
   "source": [
    "# Grade Classification (Improved)\n",
    "\n",
    "score=float(input(\"Enter the Score here :\"))\n",
    "\n",
    "# if(score >= 90 ) :\n",
    "#     print(\"A\")\n",
    "\n",
    "# if(score >= 80 and score <= 90 ) :\n",
    "#     print(\"B\")\n",
    "\n",
    "# if(score >= 70 and score <= 80) :\n",
    "#     print(\"C\")\n",
    "\n",
    "# if(score >= 60 and score <= 70) :\n",
    "#     print(\"D\")\n",
    "\n",
    "# if(score < 60 ) :\n",
    "#     print(\"F\")\n",
    "\n",
    "if score >= 90:\n",
    "    print(\"A\")\n",
    "if score >= 80:\n",
    "    print(\"B\")\n",
    "if score >= 70:\n",
    "    print(\"C\")\n",
    "if score >= 60:\n",
    "    print(\"D\")\n",
    "else:\n",
    "    print(\"F\")\n"
   ]
  },
  {
   "cell_type": "code",
   "execution_count": 23,
   "id": "ca06d051-3f2b-4c66-a5f1-06896368570c",
   "metadata": {},
   "outputs": [
    {
     "name": "stdin",
     "output_type": "stream",
     "text": [
      "Enter the num1 :  55\n",
      "Enter the num2 :  14\n"
     ]
    },
    {
     "name": "stdout",
     "output_type": "stream",
     "text": [
      "55\n",
      "num 1 is greater than num2\n"
     ]
    }
   ],
   "source": [
    "#Number Comparison (Improved)\n",
    "\n",
    "num1=int(input(\"Enter the num1 : \"))\n",
    "num2=int(input(\"Enter the num2 : \"))\n",
    "\n",
    "if(num1 > num2) :\n",
    "    print(num1)\n",
    "    print(\"num 1 is greater than num2\")\n",
    "\n",
    "if(num1 < num2) :\n",
    "    print(num2)\n",
    "    print(\"num2 is greater than num1\")"
   ]
  },
  {
   "cell_type": "code",
   "execution_count": null,
   "id": "0c6c7741-aa7c-4fd7-9604-fa4b2a1a9018",
   "metadata": {},
   "outputs": [],
   "source": [
    "#Exercise 11: Odd or Even Number (Improved)\n",
    "\n",
    "num=int(input(\"Enter the number : \"))\n",
    "if(num % 2 == 0) :\n",
    "    print(num , \"is even number\")\n",
    "\n",
    "if(num % 2 != 0) :\n",
    "    print(num , \"is odd number\")"
   ]
  },
  {
   "cell_type": "code",
   "execution_count": 25,
   "id": "fb90dbdb-72dc-47c0-aaba-a825a0325a74",
   "metadata": {},
   "outputs": [
    {
     "name": "stdin",
     "output_type": "stream",
     "text": [
      "Enter the number to check type of number :  0\n"
     ]
    },
    {
     "name": "stdout",
     "output_type": "stream",
     "text": [
      "0 is a 0 number\n"
     ]
    }
   ],
   "source": [
    "# Exercise 12: Positive, Negative, or Zero (Improved)\n",
    "\n",
    "num=int(input(\"Enter the number to check type of number : \"))\n",
    "if(num < 0) :\n",
    "    print(num , \"is negative number\")\n",
    "\n",
    "if(num > 0) :\n",
    "    print(num , \"is a positive numbre\")\n",
    "\n",
    "if(num == 0) :\n",
    "    print(num , \"is a 0 number\")"
   ]
  },
  {
   "cell_type": "code",
   "execution_count": null,
   "id": "6c2f4753-24d0-461f-8203-e9f7663c1be8",
   "metadata": {},
   "outputs": [],
   "source": [
    "#Exercise 13: Age Group Classification\n",
    "\n",
    "Age=int(input(\"Enter the number : \"))\n",
    "if(Age <= 13 ) :\n",
    "    print(\"Child \")\n",
    "    \n",
    "elif(Age > 13 and <=19):\n",
    "    print(\"Teenager\")\n",
    "\n",
    "else :\n",
    "    print(\"Adult\")"
   ]
  },
  {
   "cell_type": "code",
   "execution_count": 32,
   "id": "46798137-3622-4472-820b-691cf9a092bc",
   "metadata": {},
   "outputs": [
    {
     "name": "stdin",
     "output_type": "stream",
     "text": [
      "Enter the password :  swapnil\n"
     ]
    },
    {
     "name": "stdout",
     "output_type": "stream",
     "text": [
      "Weak\n",
      "7\n"
     ]
    }
   ],
   "source": [
    "# **Exercise 14: Password Strength Checker**\n",
    "\n",
    "password=str(input(\"Enter the password : \"))\n",
    "\n",
    "if len(password) < 8:\n",
    "    print(\"Weak\")\n",
    "    #print(len(password))\n",
    "elif len(password) >=8 :\n",
    "    print(\"Strong\")"
   ]
  },
  {
   "cell_type": "code",
   "execution_count": null,
   "id": "b46eeaf0-b7d2-4889-85f4-2d8b1166058e",
   "metadata": {},
   "outputs": [],
   "source": [
    "#Exercise 15: Age Verification\n",
    "\n",
    "Age=int(input(\"Enter the number : \"))\n",
    "if(Age >=21 ) :\n",
    "    print(\"You are allowed to enter \")\n",
    "    \n",
    "elif(<21):\n",
    "    print(\"You are not allowed to enter\")\n"
   ]
  },
  {
   "cell_type": "code",
   "execution_count": null,
   "id": "c92de242-35b5-4fbe-8ea7-2d966aed3823",
   "metadata": {},
   "outputs": [],
   "source": [
    "#Exercise 16: Number Comparison (Improved)\n",
    "\n",
    "num1=int(input(\"Enter the num1 : \"))\n",
    "num2=int(input(\"Enter the num2 : \"))\n",
    "\n",
    "if(num1 == num2) :\n",
    "    print(\"num 1 is equal to num2\")\n",
    "\n",
    "if(num1 != num2) :\n",
    "    \n",
    "    print(\"num2 is not equal to num1\")"
   ]
  },
  {
   "cell_type": "code",
   "execution_count": null,
   "id": "6a7d0eea-b0e7-4d2c-8a96-d34f82afaba6",
   "metadata": {},
   "outputs": [],
   "source": [
    "#Exercise 17: Grading System\n",
    "\n",
    "score=float(input(\"Enter the Score here :\"))\n",
    "if score >= 90:\n",
    "    print(\"A\")\n",
    "if score >= 80:\n",
    "    print(\"B\")\n",
    "if score >= 70:\n",
    "    print(\"C\")\n",
    "if score >= 60:\n",
    "    print(\"D\")\n",
    "else:\n",
    "    print(\"F\")"
   ]
  },
  {
   "cell_type": "code",
   "execution_count": 40,
   "id": "00e6d3fe-a265-481f-b14f-7c2191feac19",
   "metadata": {},
   "outputs": [
    {
     "name": "stdin",
     "output_type": "stream",
     "text": [
      "Enter the price :  1000\n"
     ]
    },
    {
     "name": "stdout",
     "output_type": "stream",
     "text": [
      "1000.0 is the oroginal price of the product and after 10% discount the price is 900.0\n"
     ]
    }
   ],
   "source": [
    "#Exercise 18: Discount Calculator\n",
    "\n",
    "proprice=float(input(\"Enter the price : \"))\n",
    "\n",
    "pridis=proprice*0.1\n",
    "# print(pridis)\n",
    "print(f\"{proprice} is the oroginal price of the product and after 10% discount the price is {proprice-pridis}\")\n"
   ]
  },
  {
   "cell_type": "code",
   "execution_count": 42,
   "id": "f6b8d39e-05da-4f41-83f8-a4a62fb1ac98",
   "metadata": {},
   "outputs": [
    {
     "name": "stdin",
     "output_type": "stream",
     "text": [
      "Enter the Height in meters:  5\n",
      "Enter the Weight in kilograms:  12\n"
     ]
    },
    {
     "name": "stdout",
     "output_type": "stream",
     "text": [
      "BMI: 0.48\n"
     ]
    }
   ],
   "source": [
    "#**Exercise 19: BMI Calculator**\n",
    "\n",
    "Height = float(input(\"Enter the Height in meters : \"))\n",
    "Weight = float(input(\"Enter the Weight in kilograms : \"))\n",
    "BMI = Weight / (Height ** 2)\n",
    "print(\"BMI:\", BMI)"
   ]
  },
  {
   "cell_type": "code",
   "execution_count": null,
   "id": "21ffa2dc-d961-4e7a-85aa-e0e6e45b7bb0",
   "metadata": {},
   "outputs": [],
   "source": [
    "#Exercise 20: Password Verification (Improved)\n",
    "EntPass = str(input(\"Enter the Height in meters : \"))\n",
    "Password =  \"password123\"\n",
    "if(EntPass == Password) :\n",
    "    print(\"Access granted\")\n",
    "else:\n",
    "    print(\"Access denied\")"
   ]
  },
  {
   "cell_type": "code",
   "execution_count": 46,
   "id": "1f715ccc-85d3-4343-9db2-52b41e9f8bb3",
   "metadata": {},
   "outputs": [
    {
     "name": "stdin",
     "output_type": "stream",
     "text": [
      "Enter your age :  7\n"
     ]
    },
    {
     "name": "stdout",
     "output_type": "stream",
     "text": [
      "The ticket price for your age 7 years old is: $5\n"
     ]
    }
   ],
   "source": [
    "#Exercise 21: Ticket Price Calculator\n",
    "\n",
    "age = int(input(\"Enter your age : \"))\n",
    "if ( age <= 12 ):\n",
    "    ticket_price = 5\n",
    "elif ( 13 <= age <= 18) :\n",
    "    ticket_price = 8\n",
    "else :\n",
    "    ticket_price = 12\n",
    "print(f\"The ticket price for your age {age} years old is: ${ticket_price}\")\n"
   ]
  },
  {
   "cell_type": "code",
   "execution_count": 48,
   "id": "ab4e4ef1-f6af-4fda-9015-4ce35d5e5232",
   "metadata": {},
   "outputs": [
    {
     "name": "stdin",
     "output_type": "stream",
     "text": [
      "Enter a color :  Red\n"
     ]
    },
    {
     "name": "stdout",
     "output_type": "stream",
     "text": [
      "Stop\n"
     ]
    }
   ],
   "source": [
    "\n",
    "\n",
    "color =str( input(\"Enter a color : \"))\n",
    "\n",
    "if color.lower() == \"red\" :\n",
    "    print(\"Stop\")\n",
    "elif color.lower() == \"yellow\" :\n",
    "    print(\"Slow down\")\n",
    "elif color.lower() == \"green\" :\n",
    "    print(\"Go\")\n"
   ]
  },
  {
   "cell_type": "code",
   "execution_count": 49,
   "id": "2576ed5d-78a2-4228-9f30-42ed3c445e5d",
   "metadata": {},
   "outputs": [
    {
     "name": "stdin",
     "output_type": "stream",
     "text": [
      "Enter the first number:  5\n",
      "Enter the operator (+, -, *, /):  *\n",
      "Enter the second number:  5\n"
     ]
    },
    {
     "name": "stdout",
     "output_type": "stream",
     "text": [
      "5.0 * 5.0 = 25.0\n"
     ]
    }
   ],
   "source": [
    "# Exercise 24: Simple Calculator\n",
    "num1 = float(input(\"Enter the first number: \"))\n",
    "operator = input(\"Enter the operator (+, -, *, /): \")\n",
    "num2 = float(input(\"Enter the second number: \"))\n",
    "\n",
    "if (operator == \"+\") :\n",
    "    result = num1 + num2\n",
    "elif (operator == \"-\") :\n",
    "    result = num1 - num2\n",
    "elif (operator == \"*\") :\n",
    "    result = num1 * num2\n",
    "elif (operator == \"/\" ) :\n",
    "    if num2 != 0: \n",
    "        result = num1 / num2\n",
    "    else:\n",
    "        print(\"Error: Division by zero!\")\n",
    "        result = None\n",
    "else:\n",
    "    print(\"Error: Invalid operator!\")\n",
    "    result = None\n",
    "\n",
    "\n",
    "if result is not None:\n",
    "    print(f\"{num1} {operator} {num2} = {result}\")\n"
   ]
  },
  {
   "cell_type": "code",
   "execution_count": null,
   "id": "356cff83-24fa-479d-94cc-91027d38ce0c",
   "metadata": {},
   "outputs": [],
   "source": []
  }
 ],
 "metadata": {
  "kernelspec": {
   "display_name": "Python 3 (ipykernel)",
   "language": "python",
   "name": "python3"
  },
  "language_info": {
   "codemirror_mode": {
    "name": "ipython",
    "version": 3
   },
   "file_extension": ".py",
   "mimetype": "text/x-python",
   "name": "python",
   "nbconvert_exporter": "python",
   "pygments_lexer": "ipython3",
   "version": "3.12.1"
  }
 },
 "nbformat": 4,
 "nbformat_minor": 5
}
