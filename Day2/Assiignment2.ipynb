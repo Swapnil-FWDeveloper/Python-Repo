{
 "cells": [
  {
   "cell_type": "code",
   "execution_count": 3,
   "id": "5806059d-8080-4748-b89d-c2041df97b36",
   "metadata": {},
   "outputs": [
    {
     "name": "stdout",
     "output_type": "stream",
     "text": [
      "num2 is greater than num1\n"
     ]
    }
   ],
   "source": [
    "#Number Comparison\n",
    "\n",
    "num1=10\n",
    "num2 = 11\n",
    "if(num1 > num2) :\n",
    "    print(\"num1 is greater than num2\")\n",
    "elif(num2 > num1) :\n",
    "    print(\"num2 is greater than num1\")\n",
    "    "
   ]
  },
  {
   "cell_type": "code",
   "execution_count": 10,
   "id": "a26185bd-d74f-4d2c-8fb6-8cc7151eea40",
   "metadata": {},
   "outputs": [
    {
     "name": "stdin",
     "output_type": "stream",
     "text": [
      "Enter the number :  17\n"
     ]
    },
    {
     "name": "stdout",
     "output_type": "stream",
     "text": [
      "17 is a Odd number\n"
     ]
    }
   ],
   "source": [
    "#Even or Odd Number\n",
    "num=int(input(\"Enter the number : \"))\n",
    "\n",
    "if(num%2==0) :\n",
    "    print(num , \"is a Even number\")\n",
    "else:\n",
    "    print(num , \"is a Odd number\")\n"
   ]
  },
  {
   "cell_type": "code",
   "execution_count": 14,
   "id": "e008fcd5-51cc-4751-a267-6be6db76cd2b",
   "metadata": {},
   "outputs": [
    {
     "name": "stdin",
     "output_type": "stream",
     "text": [
      "Enter the number : 5\n"
     ]
    },
    {
     "name": "stdout",
     "output_type": "stream",
     "text": [
      "5 is Positive number\n"
     ]
    }
   ],
   "source": [
    "#Positive or Negative Number\n",
    "num=int(input(\"Enter the number :\"))\n",
    "if(num > 0) :\n",
    "    print(num , \"is Positive number\")\n",
    "elif(num < 0) :\n",
    "    print(num , \"is a Negative number\")\n",
    "elif(num==0):\n",
    "    print(num ,\"is a absence of quantity\")"
   ]
  },
  {
   "cell_type": "code",
   "execution_count": 18,
   "id": "a0183002-bf9a-4cbb-8490-7bd2041ec20f",
   "metadata": {},
   "outputs": [
    {
     "name": "stdin",
     "output_type": "stream",
     "text": [
      "Enter the Password asdfdas\n"
     ]
    },
    {
     "name": "stdout",
     "output_type": "stream",
     "text": [
      "Access denied\n"
     ]
    }
   ],
   "source": [
    "#password Checker\n",
    "val_pass=\"python123\"\n",
    "checkPass=str(input(\"Enter the Password\"))\n",
    "if(checkPass == val_pass) :\n",
    "   print(\"Access granted\")\n",
    "else :\n",
    "    print(\"Access denied\")"
   ]
  },
  {
   "cell_type": "code",
   "execution_count": 21,
   "id": "f4654ab0-b0c1-4c2c-a8ef-f4c36f2526db",
   "metadata": {},
   "outputs": [
    {
     "name": "stdin",
     "output_type": "stream",
     "text": [
      "Enter the number :  15\n"
     ]
    },
    {
     "name": "stdout",
     "output_type": "stream",
     "text": [
      "You are an not adult\n"
     ]
    }
   ],
   "source": [
    "#Age Checker\n",
    "Age=int(input(\"Enter the number : \"))\n",
    "if(Age >=18) :\n",
    "    print(\"You are an adult\")\n",
    "else:\n",
    "    print(\"You are an not adult\")"
   ]
  },
  {
   "cell_type": "code",
   "execution_count": null,
   "id": "2b666e6f-3ee9-460c-b9cb-7601a771deba",
   "metadata": {},
   "outputs": [],
   "source": [
    "#Voting Eligibility\n",
    "\n",
    "Age=int(input(\"Enter the number : \"))\n",
    "if(Age > 18) :\n",
    "    print(\"You are eligible to vote\")\n",
    "else:\n",
    "    print(\"You are not eligible to vote\")"
   ]
  },
  {
   "cell_type": "code",
   "execution_count": 2,
   "id": "cec2f084-46c3-4a39-8b63-ab1919685c00",
   "metadata": {},
   "outputs": [
    {
     "name": "stdin",
     "output_type": "stream",
     "text": [
      "Enter the Temperature :  60\n"
     ]
    },
    {
     "name": "stdout",
     "output_type": "stream",
     "text": [
      "It's a hot day.\n"
     ]
    }
   ],
   "source": [
    "#Temperature Conversion\n",
    "\n",
    "Temp=int(input(\"Enter the Temperature : \"))\n",
    "if(Temp > 30) :\n",
    "    print(\"It's a hot day.\")\n",
    "\n",
    "else :\n",
    "    print(\"It's a not hot day.\")"
   ]
  },
  {
   "cell_type": "code",
   "execution_count": 6,
   "id": "a747a3ef-1923-4a3e-9de1-fe37c4667974",
   "metadata": {},
   "outputs": [
    {
     "name": "stdin",
     "output_type": "stream",
     "text": [
      "Enter the number to check type of number :  0\n"
     ]
    },
    {
     "name": "stdout",
     "output_type": "stream",
     "text": [
      "0 is a 0 number\n"
     ]
    }
   ],
   "source": [
    "# Positive or Negative Number (Improved)\n",
    "num=int(input(\"Enter the number to check type of number : \"))\n",
    "if(num < 0) :\n",
    "    print(num , \"is negative number\")\n",
    "\n",
    "elif(num > 0) :\n",
    "    print(num , \"is a positive numbre\")\n",
    "\n",
    "else :\n",
    "    print(num , \"is a 0 number\")"
   ]
  },
  {
   "cell_type": "code",
   "execution_count": 15,
   "id": "16a3d434-7f2f-4419-b973-296978346010",
   "metadata": {},
   "outputs": [
    {
     "name": "stdin",
     "output_type": "stream",
     "text": [
      "Enter the Score here : 55\n"
     ]
    },
    {
     "name": "stdout",
     "output_type": "stream",
     "text": [
      "F\n"
     ]
    }
   ],
   "source": [
    "# Grade Classification (Improved)\n",
    "\n",
    "score=float(input(\"Enter the Score here :\"))\n",
    "\n",
    "# if(score >= 90 ) :\n",
    "#     print(\"A\")\n",
    "\n",
    "# if(score >= 80 and score <= 90 ) :\n",
    "#     print(\"B\")\n",
    "\n",
    "# if(score >= 70 and score <= 80) :\n",
    "#     print(\"C\")\n",
    "\n",
    "# if(score >= 60 and score <= 70) :\n",
    "#     print(\"D\")\n",
    "\n",
    "# if(score < 60 ) :\n",
    "#     print(\"F\")\n",
    "\n",
    "if score >= 90:\n",
    "    print(\"A\")\n",
    "if score >= 80:\n",
    "    print(\"B\")\n",
    "if score >= 70:\n",
    "    print(\"C\")\n",
    "if score >= 60:\n",
    "    print(\"D\")\n",
    "else:\n",
    "    print(\"F\")\n"
   ]
  },
  {
   "cell_type": "code",
   "execution_count": 23,
   "id": "ca06d051-3f2b-4c66-a5f1-06896368570c",
   "metadata": {},
   "outputs": [
    {
     "name": "stdin",
     "output_type": "stream",
     "text": [
      "Enter the num1 :  55\n",
      "Enter the num2 :  14\n"
     ]
    },
    {
     "name": "stdout",
     "output_type": "stream",
     "text": [
      "55\n",
      "num 1 is greater than num2\n"
     ]
    }
   ],
   "source": [
    "#Number Comparison (Improved)\n",
    "\n",
    "num1=int(input(\"Enter the num1 : \"))\n",
    "num2=int(input(\"Enter the num2 : \"))\n",
    "\n",
    "if(num1 > num2) :\n",
    "    print(num1)\n",
    "    print(\"num 1 is greater than num2\")\n",
    "\n",
    "elif(num1 < num2) :\n",
    "    print(num2)\n",
    "    print(\"num2 is greater than num1\""
   ]
  },
  {
   "cell_type": "code",
   "execution_count": null,
   "id": "0c6c7741-aa7c-4fd7-9604-fa4b2a1a9018",
   "metadata": {},
   "outputs": [],
   "source": []
  }
 ],
 "metadata": {
  "kernelspec": {
   "display_name": "Python 3 (ipykernel)",
   "language": "python",
   "name": "python3"
  },
  "language_info": {
   "codemirror_mode": {
    "name": "ipython",
    "version": 3
   },
   "file_extension": ".py",
   "mimetype": "text/x-python",
   "name": "python",
   "nbconvert_exporter": "python",
   "pygments_lexer": "ipython3",
   "version": "3.12.1"
  }
 },
 "nbformat": 4,
 "nbformat_minor": 5
}
